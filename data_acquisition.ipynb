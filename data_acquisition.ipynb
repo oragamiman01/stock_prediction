{
 "cells": [
  {
   "cell_type": "markdown",
   "metadata": {},
   "source": [
    "# Downloading stock data"
   ]
  },
  {
   "cell_type": "code",
   "execution_count": 111,
   "metadata": {},
   "outputs": [],
   "source": [
    "import pandas as pd\n",
    "from openbb import obb\n",
    "import os"
   ]
  },
  {
   "cell_type": "code",
   "execution_count": 153,
   "metadata": {},
   "outputs": [
    {
     "name": "stdout",
     "output_type": "stream",
     "text": [
      "Looking for AMZN...\n",
      "Data saved to data/AMZN/AMZN_2004-1-2_1d.csv!\n",
      "\n",
      "Previous SPY data found, updating!\n",
      "Looking for AAPL...\n",
      "Data saved to data/AAPL/AAPL_2004-1-2_1d.csv!\n",
      "\n",
      "Looking for GOOG...\n",
      "Data saved to data/GOOG/GOOG_2004-8-19_1d.csv!\n",
      "\n",
      "Looking for MSFT...\n",
      "Data saved to data/MSFT/MSFT_2004-1-2_1d.csv!\n",
      "\n",
      "Looking for META...\n",
      "Data saved to data/META/META_2012-5-18_1d.csv!\n",
      "\n",
      "Looking for NFLX...\n",
      "Data saved to data/NFLX/NFLX_2004-1-2_1d.csv!\n",
      "\n",
      "Looking for NDAQ...\n",
      "Data saved to data/NDAQ/NDAQ_2004-1-2_1d.csv!\n",
      "\n",
      "Looking for NVDA...\n",
      "Data saved to data/NVDA/NVDA_2004-1-2_1d.csv!\n",
      "\n",
      "Looking for AVGO...\n",
      "Data saved to data/AVGO/AVGO_2009-8-6_1d.csv!\n",
      "\n"
     ]
    }
   ],
   "source": [
    "# for saving daily data for each company and updating automatically\n",
    "obb.user.credentials.fmp_api_key=\"edc2977d918bfc0e71920ca88e986b39\"\n",
    "data_folder = 'data'\n",
    "interval = '1d' # 1m, 1h, 1d options\n",
    "start_date = '2004-01-01'\n",
    "folders = os.listdir(data_folder)\n",
    "if '.DS_Store' in folders:\n",
    "    folders.pop(folders.index('.DS_Store'))\n",
    "\n",
    "for company in folders:\n",
    "    already_downloaded = False\n",
    "    files = os.listdir(os.path.join(data_folder, company))\n",
    "\n",
    "    if len(files) != 0:\n",
    "        for fn in files:\n",
    "            if interval in fn:\n",
    "                already_downloaded = True\n",
    "                print(f\"Previous {company} data found, updating!\")\n",
    "                df = obb.equity.price.historical(company, interval, start_date, provider='fmp').to_df()\n",
    "                out_file = os.path.join(data_folder, company, fn)\n",
    "                prev = pd.read_csv(out_file)\n",
    "                prev = prev.set_index(prev['date']).drop(columns=['date'])\n",
    "                df = pd.concat([prev, df]).drop_duplicates()\n",
    "                df.to_csv(out_file)\n",
    "\n",
    "    if not already_downloaded:\n",
    "        print(f\"Looking for {company}...\")\n",
    "        df = obb.equity.price.historical(company, interval, start_date, provider=\"fmp\").to_df()\n",
    "        fn = f\"{company}_{start_date}_{interval}.csv\"\n",
    "        out_file = os.path.join(data_folder, company, fn)\n",
    "        df.to_csv(out_file)\n",
    "        print(f\"Data saved to {out_file}!\")"
   ]
  },
  {
   "cell_type": "code",
   "execution_count": 129,
   "metadata": {},
   "outputs": [
    {
     "name": "stdout",
     "output_type": "stream",
     "text": [
      "Previous AMZN data found, updating!\n",
      "Previous SPY data found, updating!\n",
      "Previous AAPL data found, updating!\n",
      "Previous GOOG data found, updating!\n",
      "Previous MSFT data found, updating!\n",
      "Previous META data found, updating!\n",
      "Previous NFLX data found, updating!\n",
      "Previous NDAQ data found, updating!\n",
      "Previous NVDA data found, updating!\n",
      "Previous AVGO data found, updating!\n"
     ]
    }
   ],
   "source": [
    "# for saving hourly data for each company and updating automatically\n",
    "folders = os.listdir(data_folder)\n",
    "if '.DS_Store' in folders:\n",
    "    folders.pop(folders.index('.DS_Store'))\n",
    "interval = '1h'\n",
    "start_date = '2004-01-01'\n",
    "\n",
    "for company in folders:\n",
    "    already_downloaded = False\n",
    "    files = os.listdir(os.path.join(data_folder, company))\n",
    "\n",
    "    if len(files) != 0:\n",
    "        for fn in files:\n",
    "            if interval in fn:\n",
    "                already_downloaded = True\n",
    "                print(f\"Previous {company} data found, updating!\")\n",
    "                df = obb.equity.price.historical(company, interval, start_date, provider='yfinance').to_df()\n",
    "                out_file = os.path.join(data_folder, company, fn)\n",
    "                prev = pd.read_csv(out_file)\n",
    "                prev = prev.set_index(prev['date']).drop(columns=['date'])\n",
    "                df = pd.concat([prev, df]).drop_duplicates()\n",
    "                df.to_csv(out_file)\n",
    "\n",
    "    if not already_downloaded:\n",
    "        print(f\"Looking for {company}...\")\n",
    "        df = obb.equity.price.historical(company, interval, start_date, provider=\"yfinance\").to_df()\n",
    "        min_date = df.idxmin()[0]\n",
    "        date_str = f'{min_date.year}-{min_date.month}-{min_date.day}'\n",
    "        fn = f\"{company}_{date_str}_{interval}.csv\"\n",
    "        out_file = os.path.join(data_folder, company, fn)\n",
    "        df.to_csv(out_file)\n",
    "        print(f\"Data saved to {out_file}!\\n\")"
   ]
  }
 ],
 "metadata": {
  "kernelspec": {
   "display_name": "base",
   "language": "python",
   "name": "python3"
  },
  "language_info": {
   "codemirror_mode": {
    "name": "ipython",
    "version": 3
   },
   "file_extension": ".py",
   "mimetype": "text/x-python",
   "name": "python",
   "nbconvert_exporter": "python",
   "pygments_lexer": "ipython3",
   "version": "3.9.7"
  }
 },
 "nbformat": 4,
 "nbformat_minor": 2
}
