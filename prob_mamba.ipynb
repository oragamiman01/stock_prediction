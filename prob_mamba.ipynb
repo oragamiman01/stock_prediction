{
  "nbformat": 4,
  "nbformat_minor": 0,
  "metadata": {
    "colab": {
      "provenance": [],
      "gpuType": "T4"
    },
    "kernelspec": {
      "name": "python3",
      "display_name": "Python 3"
    },
    "language_info": {
      "name": "python"
    },
    "accelerator": "GPU"
  },
  "cells": [
    {
      "cell_type": "markdown",
      "source": [
        "# Install mamba and dependencies"
      ],
      "metadata": {
        "id": "uthtwOaCjfLC"
      }
    },
    {
      "cell_type": "code",
      "source": [
        "!pip install causal-conv1d>=1.2.0\n",
        "!pip install mamba-ssm\n",
        "!pip install torchinfo"
      ],
      "metadata": {
        "id": "1hEsi-fUjw_7",
        "colab": {
          "base_uri": "https://localhost:8080/"
        },
        "outputId": "9133c950-b51d-490f-a36d-6b335fa29b58"
      },
      "execution_count": null,
      "outputs": [
        {
          "output_type": "stream",
          "name": "stdout",
          "text": [
            "Collecting mamba-ssm\n",
            "  Downloading mamba_ssm-1.2.0.post1.tar.gz (34 kB)\n",
            "  Preparing metadata (setup.py) ... \u001b[?25l\u001b[?25hdone\n",
            "Requirement already satisfied: torch in /usr/local/lib/python3.10/dist-packages (from mamba-ssm) (2.2.1+cu121)\n",
            "Requirement already satisfied: packaging in /usr/local/lib/python3.10/dist-packages (from mamba-ssm) (24.0)\n",
            "Requirement already satisfied: ninja in /usr/local/lib/python3.10/dist-packages (from mamba-ssm) (1.11.1.1)\n",
            "Collecting einops (from mamba-ssm)\n",
            "  Downloading einops-0.7.0-py3-none-any.whl (44 kB)\n",
            "\u001b[2K     \u001b[90m━━━━━━━━━━━━━━━━━━━━━━━━━━━━━━━━━━━━━━━━\u001b[0m \u001b[32m44.6/44.6 kB\u001b[0m \u001b[31m2.5 MB/s\u001b[0m eta \u001b[36m0:00:00\u001b[0m\n",
            "\u001b[?25hRequirement already satisfied: triton in /usr/local/lib/python3.10/dist-packages (from mamba-ssm) (2.2.0)\n",
            "Requirement already satisfied: transformers in /usr/local/lib/python3.10/dist-packages (from mamba-ssm) (4.38.2)\n",
            "Requirement already satisfied: filelock in /usr/local/lib/python3.10/dist-packages (from torch->mamba-ssm) (3.13.4)\n",
            "Requirement already satisfied: typing-extensions>=4.8.0 in /usr/local/lib/python3.10/dist-packages (from torch->mamba-ssm) (4.11.0)\n",
            "Requirement already satisfied: sympy in /usr/local/lib/python3.10/dist-packages (from torch->mamba-ssm) (1.12)\n",
            "Requirement already satisfied: networkx in /usr/local/lib/python3.10/dist-packages (from torch->mamba-ssm) (3.3)\n",
            "Requirement already satisfied: jinja2 in /usr/local/lib/python3.10/dist-packages (from torch->mamba-ssm) (3.1.3)\n",
            "Requirement already satisfied: fsspec in /usr/local/lib/python3.10/dist-packages (from torch->mamba-ssm) (2023.6.0)\n",
            "Requirement already satisfied: nvidia-cuda-nvrtc-cu12==12.1.105 in /usr/local/lib/python3.10/dist-packages (from torch->mamba-ssm) (12.1.105)\n",
            "Requirement already satisfied: nvidia-cuda-runtime-cu12==12.1.105 in /usr/local/lib/python3.10/dist-packages (from torch->mamba-ssm) (12.1.105)\n",
            "Requirement already satisfied: nvidia-cuda-cupti-cu12==12.1.105 in /usr/local/lib/python3.10/dist-packages (from torch->mamba-ssm) (12.1.105)\n",
            "Requirement already satisfied: nvidia-cudnn-cu12==8.9.2.26 in /usr/local/lib/python3.10/dist-packages (from torch->mamba-ssm) (8.9.2.26)\n",
            "Requirement already satisfied: nvidia-cublas-cu12==12.1.3.1 in /usr/local/lib/python3.10/dist-packages (from torch->mamba-ssm) (12.1.3.1)\n",
            "Requirement already satisfied: nvidia-cufft-cu12==11.0.2.54 in /usr/local/lib/python3.10/dist-packages (from torch->mamba-ssm) (11.0.2.54)\n",
            "Requirement already satisfied: nvidia-curand-cu12==10.3.2.106 in /usr/local/lib/python3.10/dist-packages (from torch->mamba-ssm) (10.3.2.106)\n",
            "Requirement already satisfied: nvidia-cusolver-cu12==11.4.5.107 in /usr/local/lib/python3.10/dist-packages (from torch->mamba-ssm) (11.4.5.107)\n",
            "Requirement already satisfied: nvidia-cusparse-cu12==12.1.0.106 in /usr/local/lib/python3.10/dist-packages (from torch->mamba-ssm) (12.1.0.106)\n",
            "Requirement already satisfied: nvidia-nccl-cu12==2.19.3 in /usr/local/lib/python3.10/dist-packages (from torch->mamba-ssm) (2.19.3)\n",
            "Requirement already satisfied: nvidia-nvtx-cu12==12.1.105 in /usr/local/lib/python3.10/dist-packages (from torch->mamba-ssm) (12.1.105)\n",
            "Requirement already satisfied: nvidia-nvjitlink-cu12 in /usr/local/lib/python3.10/dist-packages (from nvidia-cusolver-cu12==11.4.5.107->torch->mamba-ssm) (12.4.127)\n",
            "Requirement already satisfied: huggingface-hub<1.0,>=0.19.3 in /usr/local/lib/python3.10/dist-packages (from transformers->mamba-ssm) (0.20.3)\n",
            "Requirement already satisfied: numpy>=1.17 in /usr/local/lib/python3.10/dist-packages (from transformers->mamba-ssm) (1.25.2)\n",
            "Requirement already satisfied: pyyaml>=5.1 in /usr/local/lib/python3.10/dist-packages (from transformers->mamba-ssm) (6.0.1)\n",
            "Requirement already satisfied: regex!=2019.12.17 in /usr/local/lib/python3.10/dist-packages (from transformers->mamba-ssm) (2023.12.25)\n",
            "Requirement already satisfied: requests in /usr/local/lib/python3.10/dist-packages (from transformers->mamba-ssm) (2.31.0)\n",
            "Requirement already satisfied: tokenizers<0.19,>=0.14 in /usr/local/lib/python3.10/dist-packages (from transformers->mamba-ssm) (0.15.2)\n",
            "Requirement already satisfied: safetensors>=0.4.1 in /usr/local/lib/python3.10/dist-packages (from transformers->mamba-ssm) (0.4.2)\n",
            "Requirement already satisfied: tqdm>=4.27 in /usr/local/lib/python3.10/dist-packages (from transformers->mamba-ssm) (4.66.2)\n",
            "Requirement already satisfied: MarkupSafe>=2.0 in /usr/local/lib/python3.10/dist-packages (from jinja2->torch->mamba-ssm) (2.1.5)\n",
            "Requirement already satisfied: charset-normalizer<4,>=2 in /usr/local/lib/python3.10/dist-packages (from requests->transformers->mamba-ssm) (3.3.2)\n",
            "Requirement already satisfied: idna<4,>=2.5 in /usr/local/lib/python3.10/dist-packages (from requests->transformers->mamba-ssm) (3.6)\n",
            "Requirement already satisfied: urllib3<3,>=1.21.1 in /usr/local/lib/python3.10/dist-packages (from requests->transformers->mamba-ssm) (2.0.7)\n",
            "Requirement already satisfied: certifi>=2017.4.17 in /usr/local/lib/python3.10/dist-packages (from requests->transformers->mamba-ssm) (2024.2.2)\n",
            "Requirement already satisfied: mpmath>=0.19 in /usr/local/lib/python3.10/dist-packages (from sympy->torch->mamba-ssm) (1.3.0)\n",
            "Building wheels for collected packages: mamba-ssm\n",
            "  Building wheel for mamba-ssm (setup.py) ... \u001b[?25l\u001b[?25hdone\n",
            "  Created wheel for mamba-ssm: filename=mamba_ssm-1.2.0.post1-cp310-cp310-linux_x86_64.whl size=137750683 sha256=b264292652a34fb9dd0ce880a34a4407ba7256a3338388d056769ec29a4581c9\n",
            "  Stored in directory: /root/.cache/pip/wheels/22/6e/60/ddd5c574b5793a30028f2cabdacd2a3ec2276edaaa8c00fd35\n",
            "Successfully built mamba-ssm\n",
            "Installing collected packages: einops, mamba-ssm\n",
            "Successfully installed einops-0.7.0 mamba-ssm-1.2.0.post1\n",
            "Collecting torchinfo\n",
            "  Downloading torchinfo-1.8.0-py3-none-any.whl (23 kB)\n",
            "Installing collected packages: torchinfo\n",
            "Successfully installed torchinfo-1.8.0\n"
          ]
        }
      ]
    },
    {
      "cell_type": "code",
      "source": [
        "from mamba_ssm import Mamba\n",
        "import torch\n",
        "import torch.nn as nn\n",
        "import pandas as pd\n",
        "import os\n",
        "import numpy as np\n",
        "import matplotlib.pyplot as plt\n",
        "import random\n",
        "from tqdm import tqdm\n",
        "from torch.utils.data import DataLoader, TensorDataset\n",
        "from torch.optim.lr_scheduler import ReduceLROnPlateau\n",
        "from torchinfo import summary\n",
        "from datetime import datetime\n",
        "from helpers import *\n",
        "from einops import rearrange\n",
        "\n",
        "if torch.cuda.is_available():\n",
        "    print(\"Using GPU\")\n",
        "    device = torch.device(\"cuda\")\n",
        "elif torch.backends.mps.is_available():\n",
        "    print(\"Using MPS\")\n",
        "    device = torch.device(\"mps\")\n",
        "else:\n",
        "    print(\"Using CPU\")\n",
        "    device = torch.device(\"cpu\")"
      ],
      "metadata": {
        "colab": {
          "base_uri": "https://localhost:8080/"
        },
        "id": "SWn9oQKnj1Fx",
        "outputId": "1cd4dcf8-dbc8-41ad-e482-a30d4728cdeb"
      },
      "execution_count": null,
      "outputs": [
        {
          "output_type": "stream",
          "name": "stdout",
          "text": [
            "Using GPU\n"
          ]
        }
      ]
    },
    {
      "cell_type": "code",
      "source": [
        "seq_size = 30 # number of previous days used to predict next day\n",
        "test_start_date = pd.to_datetime(\"2023-7-01\")\n",
        "train_start_date = pd.to_datetime(\"2022-01-01\")\n",
        "out_cols = ['pct_change']\n",
        "epochs = 25\n",
        "batch_size = 32\n",
        "d_model = 128 # number of input features to encoder layer\n",
        "nhead = 32 # number of heads in multiheadattention\n",
        "num_layers = 64 # number of encoder layers\n",
        "dropout = 0.1 # dropout probability\n",
        "\n",
        "# loading data\n",
        "data_path = 'drive/MyDrive/data'\n",
        "interval = '1d'\n",
        "companies = os.listdir(data_path)\n",
        "companies = random.sample(companies, 30)\n",
        "# companies = ['AAPL', 'GOOGL', 'NVDA', ]\n",
        "for c in companies:\n",
        "    if c == 'constituents.csv':\n",
        "        companies.remove(c)\n",
        "    elif c == '.DS_Store':\n",
        "        companies.remove('.DS_Store')\n",
        "\n",
        "# make unique number for each company ticker\n",
        "ids = np.linspace(0, 1, len(companies)).round(5)"
      ],
      "metadata": {
        "id": "Go2Sf5OYmeEQ"
      },
      "execution_count": null,
      "outputs": []
    },
    {
      "cell_type": "code",
      "source": [
        "def load_data(\n",
        "    companies: list[str],\n",
        "    ids: np.array,\n",
        "    data_path: str,\n",
        "    interval: str,\n",
        "    train_start_date: pd.Timestamp,\n",
        "    test_start_date: pd.Timestamp,\n",
        "    out_cols: list[str],\n",
        "    seq_size: int,\n",
        "):\n",
        "    \"\"\"\n",
        "    Function to load data from csv files in company folders\n",
        "\n",
        "    Inputs\n",
        "        companies: list of company tickers for data to be loaded\n",
        "        ids: array of floats for each company ticker\n",
        "        data_path: path where comapany folders are located\n",
        "        interval: frequency of stock price data (1d, 1h, etc)\n",
        "        train_start_date: first date to include in training data\n",
        "        test_start_date: first test date to include in testing data\n",
        "        out_cols: names of columns that the model will predict\n",
        "        seq_size: number of datapoints in each sequence before prediction\n",
        "\n",
        "    Outputs\n",
        "        train_loader: training set dataloader for model\n",
        "        test_loader: test set dataloader for model\n",
        "        indims: number of input dimensions for model\n",
        "        outdims: number of output dimensions for model\n",
        "        dates: test set prediction dates\n",
        "        company_stats: dictionary where the keys are the ticker and values are that company's stat dict (see z_norm documentation)\n",
        "        num_to_ticker: dictionary where the keys are the unique number from ids and values are respective ticker\n",
        "        ticker_to_num: dictionary where the keys are the company ticker and the values are the unique number for that ticker\n",
        "        feature_cols_idx: index of output feature columns for use in training (since number of columns in y must be equal to number of columns in x in TensorDataset)\n",
        "    \"\"\"\n",
        "\n",
        "    company_stats = dict()  # keys are ticker, values are that company's stat dict\n",
        "    num_to_ticker = dict()\n",
        "    ticker_to_num = dict()\n",
        "    for i, num in enumerate(ids):\n",
        "        num_to_ticker[str(num)] = companies[i]\n",
        "        ticker_to_num[companies[i]] = num\n",
        "\n",
        "    x_train = []\n",
        "    x_test = []\n",
        "    y_train = []\n",
        "    y_test = []\n",
        "    dates = []\n",
        "\n",
        "    for co in tqdm(companies):\n",
        "        files = os.listdir(os.path.join(data_path, co))\n",
        "        for f in files:  # check each company folder for specific interval of data\n",
        "            if interval in f:\n",
        "                file = f\n",
        "\n",
        "        df = pd.read_csv(os.path.join(data_path, co, file))\n",
        "        df[\"date\"] = pd.to_datetime(df[\"date\"])\n",
        "        # remove blank column\n",
        "        df = df.drop(columns=[\"Unnamed: 0\"])\n",
        "        # remove data before training start date\n",
        "        df = df[df[\"date\"] >= train_start_date]\n",
        "\n",
        "        # normalize columns, excluding date column\n",
        "        df_normed, stat_dict = z_norm(df, [\"date\", 'pct_change'])\n",
        "        # add ticker column\n",
        "        df_normed[\"ticker\"] = ticker_to_num[co]\n",
        "\n",
        "        cols = list(df_normed.columns)\n",
        "        cols.append(\n",
        "            cols.pop(cols.index(\"date\"))\n",
        "        )  # move date to end of list since this will be the order of columns for output df\n",
        "\n",
        "        # get index of test start date\n",
        "        test_start_idx = np.min(np.argmax(df_normed[\"date\"] >= test_start_date))\n",
        "\n",
        "        # get dates for test data\n",
        "        pred_dates = df_normed[\"date\"].iloc[test_start_idx + seq_size :].tolist()\n",
        "        dates.append(pred_dates)\n",
        "\n",
        "        # drop date column before making sequences\n",
        "        df_normed = df_normed.drop(columns=[\"date\"])\n",
        "\n",
        "        # store column indices for extracting output features we want\n",
        "        feature_cols_idx = [\n",
        "            list(df_normed.columns).index(feature) for feature in out_cols\n",
        "        ]\n",
        "\n",
        "        # convert to 2D numpy array of shape (-1, num_cols)\n",
        "        data_arr = df_normed.to_numpy()\n",
        "\n",
        "        # convert to sequences and append to respective training and testing lists\n",
        "        x, y = to_sequences(seq_size, data_arr)\n",
        "        for i in range(len(x)):\n",
        "            if i < test_start_idx - seq_size:\n",
        "                x_train.append(x[i])\n",
        "                y_train.append(y[i])\n",
        "            else:\n",
        "                x_test.append(x[i])\n",
        "                y_test.append(y[i])\n",
        "\n",
        "        company_stats[co] = stat_dict\n",
        "\n",
        "    indims = y_train[0].shape[0]\n",
        "    outdims = len(out_cols)\n",
        "    dates = [element for nestedlist in dates for element in nestedlist]\n",
        "\n",
        "    x_train = np.vstack(x_train).reshape(-1, seq_size, indims)\n",
        "    y_train = np.vstack(y_train).reshape(-1, indims)\n",
        "    x_test = np.vstack(x_test).reshape(-1, seq_size, indims)\n",
        "    y_test = np.vstack(y_test).reshape(-1, indims)\n",
        "\n",
        "    x_train = torch.tensor(x_train, dtype=torch.float32)\n",
        "    y_train = torch.tensor(y_train, dtype=torch.float32)\n",
        "    x_test = torch.tensor(x_test, dtype=torch.float32)\n",
        "    y_test = torch.tensor(y_test, dtype=torch.float32)\n",
        "\n",
        "    train_dataset = TensorDataset(x_train, y_train)\n",
        "    train_loader = DataLoader(\n",
        "        train_dataset,\n",
        "        batch_size=batch_size,\n",
        "        shuffle=True,\n",
        "        num_workers=2,\n",
        "        pin_memory=True,\n",
        "    )\n",
        "\n",
        "    test_dataset = TensorDataset(x_test, y_test)\n",
        "    test_loader = DataLoader(\n",
        "        test_dataset,\n",
        "        batch_size=batch_size,\n",
        "        shuffle=False,\n",
        "        num_workers=2,\n",
        "        pin_memory=True,\n",
        "    )\n",
        "\n",
        "    return (\n",
        "        train_loader,\n",
        "        test_loader,\n",
        "        indims,\n",
        "        outdims,\n",
        "        dates,\n",
        "        company_stats,\n",
        "        num_to_ticker,\n",
        "        ticker_to_num,\n",
        "        feature_cols_idx,\n",
        "    )\n",
        "\n",
        "\n",
        "(\n",
        "    train_loader,\n",
        "    test_loader,\n",
        "    indims,\n",
        "    outdims,\n",
        "    dates,\n",
        "    company_stats,\n",
        "    num_to_ticker,\n",
        "    ticker_to_num,\n",
        "    feature_cols_idx,\n",
        ") = load_data(\n",
        "    companies,\n",
        "    ids,\n",
        "    data_path,\n",
        "    interval,\n",
        "    train_start_date,\n",
        "    test_start_date,\n",
        "    out_cols,\n",
        "    seq_size,\n",
        ")"
      ],
      "metadata": {
        "id": "kNADyHlA4Qbr",
        "colab": {
          "base_uri": "https://localhost:8080/"
        },
        "outputId": "1000f393-22ca-4727-de0a-dca8aae534bd"
      },
      "execution_count": null,
      "outputs": [
        {
          "output_type": "stream",
          "name": "stderr",
          "text": [
            "100%|██████████| 30/30 [00:16<00:00,  1.81it/s]\n"
          ]
        }
      ]
    },
    {
      "cell_type": "code",
      "source": [
        "# Positional Encoding for Transformer\n",
        "class PositionalEncoding(nn.Module):\n",
        "    def __init__(self, d_model, dropout=0.1, max_len=5000):\n",
        "        super(PositionalEncoding, self).__init__()\n",
        "        self.dropout = nn.Dropout(p=dropout)\n",
        "\n",
        "        pe = torch.zeros(max_len, d_model)\n",
        "        position = torch.arange(0, max_len, dtype=torch.float).unsqueeze(1)\n",
        "        div_term = torch.exp(torch.arange(0, d_model, 2).float() * (-np.log(10000.0) / d_model))\n",
        "        pe[:, 0::2] = torch.sin(position * div_term)\n",
        "        pe[:, 1::2] = torch.cos(position * div_term)\n",
        "        pe = pe.unsqueeze(0).transpose(0, 1)\n",
        "        self.register_buffer('pe', pe)\n",
        "\n",
        "    def forward(self, x):\n",
        "        x = x + self.pe[:x.size(0), :]\n",
        "        return self.dropout(x)\n",
        "\n",
        "# Model definition using Transformer\n",
        "class TransformerModel(nn.Module):\n",
        "    def __init__(self, input_dim=1, output_dim=1, d_model=64, nhead=4, num_layers=2, dropout=0.1):\n",
        "        super(TransformerModel, self).__init__()\n",
        "\n",
        "        self.encoder = nn.Linear(input_dim, d_model)\n",
        "        self.pos_encoder = PositionalEncoding(d_model, dropout)\n",
        "        encoder_layers = nn.TransformerEncoderLayer(d_model, nhead, batch_first=True)\n",
        "        self.transformer_encoder = nn.TransformerEncoder(encoder_layers, num_layers)\n",
        "        self.decoder = nn.Linear(d_model, output_dim)\n",
        "        self.init_weights()\n",
        "\n",
        "    def init_weights(self):\n",
        "        initrange = 0.1\n",
        "        self.decoder.bias.data.zero_()\n",
        "        self.decoder.weight.data.uniform_(-initrange, initrange)\n",
        "\n",
        "    def forward(self, x):\n",
        "        x = self.encoder(x)\n",
        "        x = self.pos_encoder(x)\n",
        "        x = self.transformer_encoder(x)\n",
        "        x = self.decoder(x[:, -1, :])\n",
        "        return x\n",
        "\n",
        "\n",
        "class MambaModel(nn.Module):\n",
        "    def __init__(self, input_dim=1, output_dim=1, seq_size=29, d_state=16, d_conv=4, expand=2, dropout=0.2):\n",
        "        super(MambaModel, self).__init__()\n",
        "        self.mamba = Mamba(d_model=input_dim, d_state=d_state, d_conv=d_conv, expand=expand)\n",
        "        self.d1_nn = nn.Dropout(p=dropout)\n",
        "        self.fc1 = nn.Linear(in_features=seq_size*input_dim, out_features=output_dim)\n",
        "\n",
        "    def forward(self, x):\n",
        "        y = self.mamba(x)\n",
        "        y = rearrange(y, 'B L F -> B (L F)') # flatten sequences\n",
        "        y = self.d1_nn(y)\n",
        "        y = self.fc1(y)\n",
        "        return y\n",
        "\n",
        "# model = TransformerModel(input_dim=indims, output_dim=outdims, d_model=d_model, nhead=nhead, num_layers=num_layers, dropout=dropout).to(device)\n",
        "model = MambaModel(input_dim=indims, output_dim=outdims, seq_size=seq_size, d_state=32, d_conv=4, expand=4, dropout=0.1).to(device)"
      ],
      "metadata": {
        "id": "nq4fNsjw_RP0"
      },
      "execution_count": null,
      "outputs": []
    },
    {
      "cell_type": "code",
      "source": [
        "# Train the model\n",
        "criterion = nn.BCEWithLogitsLoss()\n",
        "optimizer = torch.optim.Adam(model.parameters(), lr=0.001)\n",
        "scheduler = ReduceLROnPlateau(optimizer, 'min', factor=0.5, patience=5)\n",
        "\n",
        "early_stop_count = 0\n",
        "min_val_loss = float('inf')\n",
        "\n",
        "for epoch in tqdm(range(epochs)):\n",
        "    model.train()\n",
        "    train_losses = []\n",
        "    for batch in train_loader:\n",
        "        x_batch, y_batch = batch\n",
        "        y_batch = y_batch[:, feature_cols_idx]\n",
        "        y_batch[y_batch <= 0] = 0\n",
        "        y_batch[y_batch > 0] = 1\n",
        "        x_batch, y_batch = x_batch.to(device), y_batch.to(device)\n",
        "\n",
        "        optimizer.zero_grad()\n",
        "        outputs = model(x_batch)\n",
        "        loss = criterion(outputs, y_batch)\n",
        "        loss.backward()\n",
        "        train_losses.append(loss.item())\n",
        "        optimizer.step()\n",
        "\n",
        "    # Validation\n",
        "    model.eval()\n",
        "    val_losses = []\n",
        "    with torch.no_grad():\n",
        "        for batch in test_loader:\n",
        "            x_batch, y_batch = batch\n",
        "            y_batch = y_batch[:, feature_cols_idx]\n",
        "            y_batch[y_batch <= 0] = 0\n",
        "            y_batch[y_batch > 0] = 1\n",
        "            x_batch, y_batch = x_batch.to(device), y_batch.to(device)\n",
        "            outputs = model(x_batch)\n",
        "            loss = criterion(outputs, y_batch)\n",
        "            val_losses.append(loss.item())\n",
        "\n",
        "    val_loss = np.mean(val_losses)\n",
        "    train_loss = np.mean(train_losses)\n",
        "    scheduler.step(val_loss)\n",
        "\n",
        "    #### uncomment below to add early stopping ####\n",
        "\n",
        "    # if val_loss < min_val_loss:\n",
        "    #     min_val_loss = val_loss\n",
        "    #     early_stop_count = 0\n",
        "    # else:\n",
        "    #     early_stop_count += 1\n",
        "\n",
        "    # if early_stop_count >= 5:\n",
        "    #     print(\"Early stopping!\")\n",
        "    #     break\n",
        "\n",
        "    print(f\"Epoch {epoch + 1}/{epochs}, Train Loss: {train_loss:.4f}, Validation Loss: {val_loss:.4f}\")"
      ],
      "metadata": {
        "colab": {
          "base_uri": "https://localhost:8080/"
        },
        "id": "mXx9NA8E_TJ8",
        "outputId": "af33e931-9ca2-47c8-f546-e4971531433b"
      },
      "execution_count": null,
      "outputs": [
        {
          "output_type": "stream",
          "name": "stderr",
          "text": [
            "\r  0%|          | 0/25 [00:00<?, ?it/s]/usr/lib/python3.10/multiprocessing/popen_fork.py:66: RuntimeWarning: os.fork() was called. os.fork() is incompatible with multithreaded code, and JAX is multithreaded, so this will likely lead to a deadlock.\n",
            "  self.pid = os.fork()\n",
            "  4%|▍         | 1/25 [00:03<01:18,  3.28s/it]"
          ]
        },
        {
          "output_type": "stream",
          "name": "stdout",
          "text": [
            "Epoch 1/25, Train Loss: 0.6922, Validation Loss: 0.6941\n"
          ]
        },
        {
          "output_type": "stream",
          "name": "stderr",
          "text": [
            "\r  8%|▊         | 2/25 [00:05<01:07,  2.92s/it]"
          ]
        },
        {
          "output_type": "stream",
          "name": "stdout",
          "text": [
            "Epoch 2/25, Train Loss: 0.6872, Validation Loss: 0.6978\n"
          ]
        },
        {
          "output_type": "stream",
          "name": "stderr",
          "text": [
            "\r 12%|█▏        | 3/25 [00:08<01:03,  2.90s/it]"
          ]
        },
        {
          "output_type": "stream",
          "name": "stdout",
          "text": [
            "Epoch 3/25, Train Loss: 0.6802, Validation Loss: 0.7117\n"
          ]
        },
        {
          "output_type": "stream",
          "name": "stderr",
          "text": [
            "\r 16%|█▌        | 4/25 [00:11<00:58,  2.77s/it]"
          ]
        },
        {
          "output_type": "stream",
          "name": "stdout",
          "text": [
            "Epoch 4/25, Train Loss: 0.6714, Validation Loss: 0.7176\n"
          ]
        },
        {
          "output_type": "stream",
          "name": "stderr",
          "text": [
            "\r 20%|██        | 5/25 [00:13<00:52,  2.63s/it]"
          ]
        },
        {
          "output_type": "stream",
          "name": "stdout",
          "text": [
            "Epoch 5/25, Train Loss: 0.6630, Validation Loss: 0.7167\n"
          ]
        },
        {
          "output_type": "stream",
          "name": "stderr",
          "text": [
            "\r 24%|██▍       | 6/25 [00:16<00:48,  2.54s/it]"
          ]
        },
        {
          "output_type": "stream",
          "name": "stdout",
          "text": [
            "Epoch 6/25, Train Loss: 0.6544, Validation Loss: 0.7324\n"
          ]
        },
        {
          "output_type": "stream",
          "name": "stderr",
          "text": [
            "\r 28%|██▊       | 7/25 [00:18<00:46,  2.57s/it]"
          ]
        },
        {
          "output_type": "stream",
          "name": "stdout",
          "text": [
            "Epoch 7/25, Train Loss: 0.6461, Validation Loss: 0.7522\n"
          ]
        },
        {
          "output_type": "stream",
          "name": "stderr",
          "text": [
            "\r 32%|███▏      | 8/25 [00:21<00:45,  2.69s/it]"
          ]
        },
        {
          "output_type": "stream",
          "name": "stdout",
          "text": [
            "Epoch 8/25, Train Loss: 0.6309, Validation Loss: 0.7577\n"
          ]
        },
        {
          "output_type": "stream",
          "name": "stderr",
          "text": [
            "\r 36%|███▌      | 9/25 [00:24<00:41,  2.58s/it]"
          ]
        },
        {
          "output_type": "stream",
          "name": "stdout",
          "text": [
            "Epoch 9/25, Train Loss: 0.6251, Validation Loss: 0.7672\n"
          ]
        },
        {
          "output_type": "stream",
          "name": "stderr",
          "text": [
            "\r 40%|████      | 10/25 [00:26<00:37,  2.51s/it]"
          ]
        },
        {
          "output_type": "stream",
          "name": "stdout",
          "text": [
            "Epoch 10/25, Train Loss: 0.6196, Validation Loss: 0.7701\n"
          ]
        },
        {
          "output_type": "stream",
          "name": "stderr",
          "text": [
            "\r 44%|████▍     | 11/25 [00:28<00:34,  2.47s/it]"
          ]
        },
        {
          "output_type": "stream",
          "name": "stdout",
          "text": [
            "Epoch 11/25, Train Loss: 0.6139, Validation Loss: 0.7748\n"
          ]
        },
        {
          "output_type": "stream",
          "name": "stderr",
          "text": [
            "\r 48%|████▊     | 12/25 [00:31<00:31,  2.43s/it]"
          ]
        },
        {
          "output_type": "stream",
          "name": "stdout",
          "text": [
            "Epoch 12/25, Train Loss: 0.6098, Validation Loss: 0.7859\n"
          ]
        },
        {
          "output_type": "stream",
          "name": "stderr",
          "text": [
            "\r 52%|█████▏    | 13/25 [00:34<00:31,  2.62s/it]"
          ]
        },
        {
          "output_type": "stream",
          "name": "stdout",
          "text": [
            "Epoch 13/25, Train Loss: 0.6030, Validation Loss: 0.7972\n"
          ]
        },
        {
          "output_type": "stream",
          "name": "stderr",
          "text": [
            "\r 56%|█████▌    | 14/25 [00:36<00:28,  2.57s/it]"
          ]
        },
        {
          "output_type": "stream",
          "name": "stdout",
          "text": [
            "Epoch 14/25, Train Loss: 0.5971, Validation Loss: 0.8090\n"
          ]
        },
        {
          "output_type": "stream",
          "name": "stderr",
          "text": [
            "\r 60%|██████    | 15/25 [00:38<00:24,  2.49s/it]"
          ]
        },
        {
          "output_type": "stream",
          "name": "stdout",
          "text": [
            "Epoch 15/25, Train Loss: 0.5949, Validation Loss: 0.8144\n"
          ]
        },
        {
          "output_type": "stream",
          "name": "stderr",
          "text": [
            "\r 64%|██████▍   | 16/25 [00:41<00:21,  2.44s/it]"
          ]
        },
        {
          "output_type": "stream",
          "name": "stdout",
          "text": [
            "Epoch 16/25, Train Loss: 0.5908, Validation Loss: 0.8205\n"
          ]
        },
        {
          "output_type": "stream",
          "name": "stderr",
          "text": [
            "\r 68%|██████▊   | 17/25 [00:43<00:19,  2.40s/it]"
          ]
        },
        {
          "output_type": "stream",
          "name": "stdout",
          "text": [
            "Epoch 17/25, Train Loss: 0.5869, Validation Loss: 0.8254\n"
          ]
        },
        {
          "output_type": "stream",
          "name": "stderr",
          "text": [
            "\r 72%|███████▏  | 18/25 [00:46<00:17,  2.55s/it]"
          ]
        },
        {
          "output_type": "stream",
          "name": "stdout",
          "text": [
            "Epoch 18/25, Train Loss: 0.5844, Validation Loss: 0.8314\n"
          ]
        },
        {
          "output_type": "stream",
          "name": "stderr",
          "text": [
            "\r 76%|███████▌  | 19/25 [00:49<00:15,  2.57s/it]"
          ]
        },
        {
          "output_type": "stream",
          "name": "stdout",
          "text": [
            "Epoch 19/25, Train Loss: 0.5833, Validation Loss: 0.8318\n"
          ]
        },
        {
          "output_type": "stream",
          "name": "stderr",
          "text": [
            "\r 80%|████████  | 20/25 [00:51<00:12,  2.50s/it]"
          ]
        },
        {
          "output_type": "stream",
          "name": "stdout",
          "text": [
            "Epoch 20/25, Train Loss: 0.5758, Validation Loss: 0.8436\n"
          ]
        },
        {
          "output_type": "stream",
          "name": "stderr",
          "text": [
            "\r 84%|████████▍ | 21/25 [00:53<00:09,  2.45s/it]"
          ]
        },
        {
          "output_type": "stream",
          "name": "stdout",
          "text": [
            "Epoch 21/25, Train Loss: 0.5777, Validation Loss: 0.8429\n"
          ]
        },
        {
          "output_type": "stream",
          "name": "stderr",
          "text": [
            "\r 88%|████████▊ | 22/25 [00:56<00:07,  2.56s/it]"
          ]
        },
        {
          "output_type": "stream",
          "name": "stdout",
          "text": [
            "Epoch 22/25, Train Loss: 0.5738, Validation Loss: 0.8589\n"
          ]
        },
        {
          "output_type": "stream",
          "name": "stderr",
          "text": [
            "\r 92%|█████████▏| 23/25 [00:59<00:05,  2.73s/it]"
          ]
        },
        {
          "output_type": "stream",
          "name": "stdout",
          "text": [
            "Epoch 23/25, Train Loss: 0.5724, Validation Loss: 0.8531\n"
          ]
        },
        {
          "output_type": "stream",
          "name": "stderr",
          "text": [
            "\r 96%|█████████▌| 24/25 [01:02<00:02,  2.70s/it]"
          ]
        },
        {
          "output_type": "stream",
          "name": "stdout",
          "text": [
            "Epoch 24/25, Train Loss: 0.5715, Validation Loss: 0.8673\n"
          ]
        },
        {
          "output_type": "stream",
          "name": "stderr",
          "text": [
            "100%|██████████| 25/25 [01:04<00:00,  2.58s/it]"
          ]
        },
        {
          "output_type": "stream",
          "name": "stdout",
          "text": [
            "Epoch 25/25, Train Loss: 0.5736, Validation Loss: 0.8615\n"
          ]
        },
        {
          "output_type": "stream",
          "name": "stderr",
          "text": [
            "\n"
          ]
        }
      ]
    },
    {
      "cell_type": "code",
      "source": [
        "# testing with metrics\n",
        "# model = TransformerModel(input_dim=indims, output_dim=outdims).to(device)\n",
        "# model.load_state_dict(torch.load(os.path.join(saved_weights_path, \"AAPL_model_20240209.pt\")))\n",
        "results = []\n",
        "gt_preds = []\n",
        "with torch.no_grad():\n",
        "    for i, batch in tqdm(enumerate(test_loader)):\n",
        "        x_batch, y_batch = batch\n",
        "        tickers = [num_to_ticker[str(y_batch.detach().numpy()[idx,-1])] for idx in range(y_batch.shape[0])]\n",
        "        y_batch = y_batch[:, feature_cols_idx]\n",
        "        x_batch, y_batch = x_batch.to(device), y_batch.to(device)\n",
        "        outputs = model(x_batch)\n",
        "\n",
        "        gt_outputs = process_results(y_batch, batch_size, i, dates, tickers)\n",
        "        processed_outputs = process_results(torch.sigmoid(outputs), batch_size, i, dates, tickers)\n",
        "\n",
        "        [results.append(out) for out in processed_outputs]\n",
        "        [gt_preds.append(out) for out in gt_outputs]\n",
        "\n",
        "columns = [ele for nested in [out_cols, ['ticker', 'date']] for ele in nested]\n",
        "df_pred = pd.DataFrame(results, columns=columns)\n",
        "df_gt = pd.DataFrame(gt_preds, columns=columns)\n",
        "for co in companies:\n",
        "#     df_pred[df_pred['ticker'] == co] = reverse_z_norm(df_pred, company_stats[co], col_exclude=['ticker', 'date'])\n",
        "    df_gt[df_pred['ticker'] == co] = reverse_z_norm(df_gt, company_stats[co], col_exclude=['ticker', 'date', 'pct_change'])\n",
        "\n",
        "df_pred = rename_cols(df_pred, '_pred', ['date', 'ticker'])\n",
        "df_gt = rename_cols(df_gt, '_gt', ['date', 'ticker'])\n",
        "df_merged = pd.merge(df_pred, df_gt, 'inner')"
      ],
      "metadata": {
        "colab": {
          "base_uri": "https://localhost:8080/"
        },
        "id": "DtFKwNSqB9oS",
        "outputId": "472130a7-fe20-4a75-8093-67f184723935"
      },
      "execution_count": null,
      "outputs": [
        {
          "output_type": "stream",
          "name": "stderr",
          "text": [
            "110it [00:00, 141.18it/s]\n"
          ]
        }
      ]
    },
    {
      "cell_type": "code",
      "source": [
        "# df_merged['new_pct_change_pred'] = df_merged['pct_change_pred'].pct_change()\n",
        "# df_merged = df_merged.dropna()\n",
        "df_merged.head()"
      ],
      "metadata": {
        "colab": {
          "base_uri": "https://localhost:8080/",
          "height": 206
        },
        "id": "hQimojz0CBck",
        "outputId": "232b500a-4e4e-414a-927a-308839cb645c"
      },
      "execution_count": null,
      "outputs": [
        {
          "output_type": "execute_result",
          "data": {
            "text/plain": [
              "   pct_change_pred ticker       date  pct_change_gt\n",
              "0         0.792495    CAG 2023-08-15      -0.019741\n",
              "1         0.719500    CAG 2023-08-16      -0.008584\n",
              "2         0.720800    CAG 2023-08-17      -0.002664\n",
              "3         0.678392    CAG 2023-08-18       0.008013\n",
              "4         0.815681    CAG 2023-08-21      -0.013249"
            ],
            "text/html": [
              "\n",
              "  <div id=\"df-402926a6-f950-4f84-83da-6d6db3c48457\" class=\"colab-df-container\">\n",
              "    <div>\n",
              "<style scoped>\n",
              "    .dataframe tbody tr th:only-of-type {\n",
              "        vertical-align: middle;\n",
              "    }\n",
              "\n",
              "    .dataframe tbody tr th {\n",
              "        vertical-align: top;\n",
              "    }\n",
              "\n",
              "    .dataframe thead th {\n",
              "        text-align: right;\n",
              "    }\n",
              "</style>\n",
              "<table border=\"1\" class=\"dataframe\">\n",
              "  <thead>\n",
              "    <tr style=\"text-align: right;\">\n",
              "      <th></th>\n",
              "      <th>pct_change_pred</th>\n",
              "      <th>ticker</th>\n",
              "      <th>date</th>\n",
              "      <th>pct_change_gt</th>\n",
              "    </tr>\n",
              "  </thead>\n",
              "  <tbody>\n",
              "    <tr>\n",
              "      <th>0</th>\n",
              "      <td>0.792495</td>\n",
              "      <td>CAG</td>\n",
              "      <td>2023-08-15</td>\n",
              "      <td>-0.019741</td>\n",
              "    </tr>\n",
              "    <tr>\n",
              "      <th>1</th>\n",
              "      <td>0.719500</td>\n",
              "      <td>CAG</td>\n",
              "      <td>2023-08-16</td>\n",
              "      <td>-0.008584</td>\n",
              "    </tr>\n",
              "    <tr>\n",
              "      <th>2</th>\n",
              "      <td>0.720800</td>\n",
              "      <td>CAG</td>\n",
              "      <td>2023-08-17</td>\n",
              "      <td>-0.002664</td>\n",
              "    </tr>\n",
              "    <tr>\n",
              "      <th>3</th>\n",
              "      <td>0.678392</td>\n",
              "      <td>CAG</td>\n",
              "      <td>2023-08-18</td>\n",
              "      <td>0.008013</td>\n",
              "    </tr>\n",
              "    <tr>\n",
              "      <th>4</th>\n",
              "      <td>0.815681</td>\n",
              "      <td>CAG</td>\n",
              "      <td>2023-08-21</td>\n",
              "      <td>-0.013249</td>\n",
              "    </tr>\n",
              "  </tbody>\n",
              "</table>\n",
              "</div>\n",
              "    <div class=\"colab-df-buttons\">\n",
              "\n",
              "  <div class=\"colab-df-container\">\n",
              "    <button class=\"colab-df-convert\" onclick=\"convertToInteractive('df-402926a6-f950-4f84-83da-6d6db3c48457')\"\n",
              "            title=\"Convert this dataframe to an interactive table.\"\n",
              "            style=\"display:none;\">\n",
              "\n",
              "  <svg xmlns=\"http://www.w3.org/2000/svg\" height=\"24px\" viewBox=\"0 -960 960 960\">\n",
              "    <path d=\"M120-120v-720h720v720H120Zm60-500h600v-160H180v160Zm220 220h160v-160H400v160Zm0 220h160v-160H400v160ZM180-400h160v-160H180v160Zm440 0h160v-160H620v160ZM180-180h160v-160H180v160Zm440 0h160v-160H620v160Z\"/>\n",
              "  </svg>\n",
              "    </button>\n",
              "\n",
              "  <style>\n",
              "    .colab-df-container {\n",
              "      display:flex;\n",
              "      gap: 12px;\n",
              "    }\n",
              "\n",
              "    .colab-df-convert {\n",
              "      background-color: #E8F0FE;\n",
              "      border: none;\n",
              "      border-radius: 50%;\n",
              "      cursor: pointer;\n",
              "      display: none;\n",
              "      fill: #1967D2;\n",
              "      height: 32px;\n",
              "      padding: 0 0 0 0;\n",
              "      width: 32px;\n",
              "    }\n",
              "\n",
              "    .colab-df-convert:hover {\n",
              "      background-color: #E2EBFA;\n",
              "      box-shadow: 0px 1px 2px rgba(60, 64, 67, 0.3), 0px 1px 3px 1px rgba(60, 64, 67, 0.15);\n",
              "      fill: #174EA6;\n",
              "    }\n",
              "\n",
              "    .colab-df-buttons div {\n",
              "      margin-bottom: 4px;\n",
              "    }\n",
              "\n",
              "    [theme=dark] .colab-df-convert {\n",
              "      background-color: #3B4455;\n",
              "      fill: #D2E3FC;\n",
              "    }\n",
              "\n",
              "    [theme=dark] .colab-df-convert:hover {\n",
              "      background-color: #434B5C;\n",
              "      box-shadow: 0px 1px 3px 1px rgba(0, 0, 0, 0.15);\n",
              "      filter: drop-shadow(0px 1px 2px rgba(0, 0, 0, 0.3));\n",
              "      fill: #FFFFFF;\n",
              "    }\n",
              "  </style>\n",
              "\n",
              "    <script>\n",
              "      const buttonEl =\n",
              "        document.querySelector('#df-402926a6-f950-4f84-83da-6d6db3c48457 button.colab-df-convert');\n",
              "      buttonEl.style.display =\n",
              "        google.colab.kernel.accessAllowed ? 'block' : 'none';\n",
              "\n",
              "      async function convertToInteractive(key) {\n",
              "        const element = document.querySelector('#df-402926a6-f950-4f84-83da-6d6db3c48457');\n",
              "        const dataTable =\n",
              "          await google.colab.kernel.invokeFunction('convertToInteractive',\n",
              "                                                    [key], {});\n",
              "        if (!dataTable) return;\n",
              "\n",
              "        const docLinkHtml = 'Like what you see? Visit the ' +\n",
              "          '<a target=\"_blank\" href=https://colab.research.google.com/notebooks/data_table.ipynb>data table notebook</a>'\n",
              "          + ' to learn more about interactive tables.';\n",
              "        element.innerHTML = '';\n",
              "        dataTable['output_type'] = 'display_data';\n",
              "        await google.colab.output.renderOutput(dataTable, element);\n",
              "        const docLink = document.createElement('div');\n",
              "        docLink.innerHTML = docLinkHtml;\n",
              "        element.appendChild(docLink);\n",
              "      }\n",
              "    </script>\n",
              "  </div>\n",
              "\n",
              "\n",
              "<div id=\"df-24c77b68-028f-4fdf-9034-9ab158c333f3\">\n",
              "  <button class=\"colab-df-quickchart\" onclick=\"quickchart('df-24c77b68-028f-4fdf-9034-9ab158c333f3')\"\n",
              "            title=\"Suggest charts\"\n",
              "            style=\"display:none;\">\n",
              "\n",
              "<svg xmlns=\"http://www.w3.org/2000/svg\" height=\"24px\"viewBox=\"0 0 24 24\"\n",
              "     width=\"24px\">\n",
              "    <g>\n",
              "        <path d=\"M19 3H5c-1.1 0-2 .9-2 2v14c0 1.1.9 2 2 2h14c1.1 0 2-.9 2-2V5c0-1.1-.9-2-2-2zM9 17H7v-7h2v7zm4 0h-2V7h2v10zm4 0h-2v-4h2v4z\"/>\n",
              "    </g>\n",
              "</svg>\n",
              "  </button>\n",
              "\n",
              "<style>\n",
              "  .colab-df-quickchart {\n",
              "      --bg-color: #E8F0FE;\n",
              "      --fill-color: #1967D2;\n",
              "      --hover-bg-color: #E2EBFA;\n",
              "      --hover-fill-color: #174EA6;\n",
              "      --disabled-fill-color: #AAA;\n",
              "      --disabled-bg-color: #DDD;\n",
              "  }\n",
              "\n",
              "  [theme=dark] .colab-df-quickchart {\n",
              "      --bg-color: #3B4455;\n",
              "      --fill-color: #D2E3FC;\n",
              "      --hover-bg-color: #434B5C;\n",
              "      --hover-fill-color: #FFFFFF;\n",
              "      --disabled-bg-color: #3B4455;\n",
              "      --disabled-fill-color: #666;\n",
              "  }\n",
              "\n",
              "  .colab-df-quickchart {\n",
              "    background-color: var(--bg-color);\n",
              "    border: none;\n",
              "    border-radius: 50%;\n",
              "    cursor: pointer;\n",
              "    display: none;\n",
              "    fill: var(--fill-color);\n",
              "    height: 32px;\n",
              "    padding: 0;\n",
              "    width: 32px;\n",
              "  }\n",
              "\n",
              "  .colab-df-quickchart:hover {\n",
              "    background-color: var(--hover-bg-color);\n",
              "    box-shadow: 0 1px 2px rgba(60, 64, 67, 0.3), 0 1px 3px 1px rgba(60, 64, 67, 0.15);\n",
              "    fill: var(--button-hover-fill-color);\n",
              "  }\n",
              "\n",
              "  .colab-df-quickchart-complete:disabled,\n",
              "  .colab-df-quickchart-complete:disabled:hover {\n",
              "    background-color: var(--disabled-bg-color);\n",
              "    fill: var(--disabled-fill-color);\n",
              "    box-shadow: none;\n",
              "  }\n",
              "\n",
              "  .colab-df-spinner {\n",
              "    border: 2px solid var(--fill-color);\n",
              "    border-color: transparent;\n",
              "    border-bottom-color: var(--fill-color);\n",
              "    animation:\n",
              "      spin 1s steps(1) infinite;\n",
              "  }\n",
              "\n",
              "  @keyframes spin {\n",
              "    0% {\n",
              "      border-color: transparent;\n",
              "      border-bottom-color: var(--fill-color);\n",
              "      border-left-color: var(--fill-color);\n",
              "    }\n",
              "    20% {\n",
              "      border-color: transparent;\n",
              "      border-left-color: var(--fill-color);\n",
              "      border-top-color: var(--fill-color);\n",
              "    }\n",
              "    30% {\n",
              "      border-color: transparent;\n",
              "      border-left-color: var(--fill-color);\n",
              "      border-top-color: var(--fill-color);\n",
              "      border-right-color: var(--fill-color);\n",
              "    }\n",
              "    40% {\n",
              "      border-color: transparent;\n",
              "      border-right-color: var(--fill-color);\n",
              "      border-top-color: var(--fill-color);\n",
              "    }\n",
              "    60% {\n",
              "      border-color: transparent;\n",
              "      border-right-color: var(--fill-color);\n",
              "    }\n",
              "    80% {\n",
              "      border-color: transparent;\n",
              "      border-right-color: var(--fill-color);\n",
              "      border-bottom-color: var(--fill-color);\n",
              "    }\n",
              "    90% {\n",
              "      border-color: transparent;\n",
              "      border-bottom-color: var(--fill-color);\n",
              "    }\n",
              "  }\n",
              "</style>\n",
              "\n",
              "  <script>\n",
              "    async function quickchart(key) {\n",
              "      const quickchartButtonEl =\n",
              "        document.querySelector('#' + key + ' button');\n",
              "      quickchartButtonEl.disabled = true;  // To prevent multiple clicks.\n",
              "      quickchartButtonEl.classList.add('colab-df-spinner');\n",
              "      try {\n",
              "        const charts = await google.colab.kernel.invokeFunction(\n",
              "            'suggestCharts', [key], {});\n",
              "      } catch (error) {\n",
              "        console.error('Error during call to suggestCharts:', error);\n",
              "      }\n",
              "      quickchartButtonEl.classList.remove('colab-df-spinner');\n",
              "      quickchartButtonEl.classList.add('colab-df-quickchart-complete');\n",
              "    }\n",
              "    (() => {\n",
              "      let quickchartButtonEl =\n",
              "        document.querySelector('#df-24c77b68-028f-4fdf-9034-9ab158c333f3 button');\n",
              "      quickchartButtonEl.style.display =\n",
              "        google.colab.kernel.accessAllowed ? 'block' : 'none';\n",
              "    })();\n",
              "  </script>\n",
              "</div>\n",
              "\n",
              "    </div>\n",
              "  </div>\n"
            ],
            "application/vnd.google.colaboratory.intrinsic+json": {
              "type": "dataframe",
              "variable_name": "df_merged",
              "summary": "{\n  \"name\": \"df_merged\",\n  \"rows\": 3510,\n  \"fields\": [\n    {\n      \"column\": \"pct_change_pred\",\n      \"properties\": {\n        \"dtype\": \"number\",\n        \"std\": 0.21781463159646183,\n        \"min\": 2.394071634626016e-05,\n        \"max\": 0.999998927116394,\n        \"num_unique_values\": 3508,\n        \"samples\": [\n          0.007171060424298048,\n          0.41196364164352417,\n          0.9012515544891357\n        ],\n        \"semantic_type\": \"\",\n        \"description\": \"\"\n      }\n    },\n    {\n      \"column\": \"ticker\",\n      \"properties\": {\n        \"dtype\": \"category\",\n        \"num_unique_values\": 30,\n        \"samples\": [\n          \"L\",\n          \"DD\",\n          \"DOV\"\n        ],\n        \"semantic_type\": \"\",\n        \"description\": \"\"\n      }\n    },\n    {\n      \"column\": \"date\",\n      \"properties\": {\n        \"dtype\": \"date\",\n        \"min\": \"2023-08-15 00:00:00\",\n        \"max\": \"2024-01-31 00:00:00\",\n        \"num_unique_values\": 117,\n        \"samples\": [\n          \"2023-10-17 00:00:00\",\n          \"2023-08-21 00:00:00\",\n          \"2023-10-30 00:00:00\"\n        ],\n        \"semantic_type\": \"\",\n        \"description\": \"\"\n      }\n    },\n    {\n      \"column\": \"pct_change_gt\",\n      \"properties\": {\n        \"dtype\": \"number\",\n        \"std\": 0.0165198434863658,\n        \"min\": -0.2176724076271057,\n        \"max\": 0.10807765275239944,\n        \"num_unique_values\": 3484,\n        \"samples\": [\n          -0.020515266805887222,\n          -0.011572226881980896,\n          0.00639567943289876\n        ],\n        \"semantic_type\": \"\",\n        \"description\": \"\"\n      }\n    }\n  ]\n}"
            }
          },
          "metadata": {},
          "execution_count": 9
        }
      ]
    },
    {
      "cell_type": "code",
      "source": [
        "co = companies[1]\n",
        "df_merged[df_merged['ticker'] == co].plot(x='date', y=['pct_change_pred', 'pct_change_gt'])\n",
        "plt.legend()\n",
        "plt.title(f\"{co} Close Prediction vs Ground Truth\")\n",
        "plt.show()"
      ],
      "metadata": {
        "colab": {
          "base_uri": "https://localhost:8080/",
          "height": 455
        },
        "id": "Z0vse3fMCEbc",
        "outputId": "c90e9d58-1f29-4587-dc8c-fd4ccdf7f895"
      },
      "execution_count": null,
      "outputs": [
        {
          "output_type": "display_data",
          "data": {
            "text/plain": [
              "<Figure size 640x480 with 1 Axes>"
            ],
            "image/png": "[encoded data removed]"
          },
          "metadata": {}
        }
      ]
    },
    {
      "cell_type": "code",
      "source": [
        "df_merged[df_merged['ticker'] == co].plot(x='date', y='pct_change_gt')\n",
        "plt.title(\"pct_change ground truth\")\n",
        "plt.show()\n",
        "df_merged[df_merged['ticker'] == co].plot(x='date', y='pct_change_pred')\n",
        "plt.grid()\n",
        "plt.title(\"pct_change prediction\")\n",
        "plt.show()"
      ],
      "metadata": {
        "colab": {
          "base_uri": "https://localhost:8080/",
          "height": 893
        },
        "id": "MXqChJpKCVmo",
        "outputId": "20c51363-8330-4c87-9145-41bd02b65866"
      },
      "execution_count": null,
      "outputs": [
        {
          "output_type": "display_data",
          "data": {
            "text/plain": [
              "<Figure size 640x480 with 1 Axes>"
            ],
            "image/png": "[encoded data removed]"
          },
          "metadata": {}
        },
        {
          "output_type": "display_data",
          "data": {
            "text/plain": [
              "<Figure size 640x480 with 1 Axes>"
            ],
            "image/png": "[encoded data removed]"
          },
          "metadata": {}
        }
      ]
    },
    {
      "cell_type": "code",
      "source": [
        "accuracy_metrics = dict()\n",
        "for i in range(len(companies)):\n",
        "    accuracy_metrics[companies[i]] = dict()\n",
        "    gt_rows = df_merged[df_merged[\"ticker\"] == companies[i]][\"pct_change_gt\"]\n",
        "    pred_rows = df_merged[df_merged[\"ticker\"] == companies[i]][\"pct_change_pred\"]\n",
        "    da = directional_accuracy_pct_change(gt_rows, pred_rows)\n",
        "    pct_increasing = (gt_rows >= 0).sum()/len(gt_rows)\n",
        "    accuracy_metrics[companies[i]][\"directional accuracy\"] = da\n",
        "    accuracy_metrics[companies[i]][\"pct increasing\"] = pct_increasing\n",
        "    accuracy_metrics[companies[i]][\"pred vs gt DA difference\"] = da - pct_increasing\n",
        "\n",
        "    print(f\"{companies[i]} DA improvement over buy and hold: {accuracy_metrics[companies[i]]['pred vs gt DA difference']:.4f}\")\n"
      ],
      "metadata": {
        "colab": {
          "base_uri": "https://localhost:8080/"
        },
        "id": "z2ukBtEvCYex",
        "outputId": "7be0821a-043c-4fe2-be1a-604eb47dc3c0"
      },
      "execution_count": null,
      "outputs": [
        {
          "output_type": "stream",
          "name": "stdout",
          "text": [
            "CAG DA improvement over buy and hold: -0.0171\n",
            "MAA DA improvement over buy and hold: 0.0000\n",
            "BX DA improvement over buy and hold: 0.0000\n",
            "CVS DA improvement over buy and hold: -0.0171\n",
            "MET DA improvement over buy and hold: -0.0085\n",
            "TSN DA improvement over buy and hold: 0.0000\n",
            "AMT DA improvement over buy and hold: 0.0000\n",
            "FICO DA improvement over buy and hold: 0.0000\n",
            "LIN DA improvement over buy and hold: 0.0000\n",
            "GOOGL DA improvement over buy and hold: 0.0000\n",
            "FRT DA improvement over buy and hold: -0.0085\n",
            "OTIS DA improvement over buy and hold: 0.0000\n",
            "ESS DA improvement over buy and hold: -0.0085\n",
            "AWK DA improvement over buy and hold: -0.0085\n",
            "GILD DA improvement over buy and hold: 0.0000\n",
            "DD DA improvement over buy and hold: 0.0000\n",
            "GRMN DA improvement over buy and hold: -0.0256\n",
            "AME DA improvement over buy and hold: -0.0085\n",
            "DLTR DA improvement over buy and hold: 0.0000\n",
            "WY DA improvement over buy and hold: -0.0085\n",
            "KIM DA improvement over buy and hold: -0.0085\n",
            "ADBE DA improvement over buy and hold: 0.0000\n",
            "ON DA improvement over buy and hold: -0.0171\n",
            "DOV DA improvement over buy and hold: -0.0171\n",
            "INTU DA improvement over buy and hold: 0.0000\n",
            "NEE DA improvement over buy and hold: 0.0000\n",
            "HUM DA improvement over buy and hold: -0.0085\n",
            "L DA improvement over buy and hold: 0.0000\n",
            "ULTA DA improvement over buy and hold: 0.0000\n",
            "HAL DA improvement over buy and hold: 0.0000\n"
          ]
        }
      ]
    },
    {
      "cell_type": "code",
      "source": [
        "accuracy_metrics[companies[0]]"
      ],
      "metadata": {
        "colab": {
          "base_uri": "https://localhost:8080/"
        },
        "id": "_ANHk1iw5Lir",
        "outputId": "e4352931-5dfb-4e83-efeb-23d1f80f5a98"
      },
      "execution_count": null,
      "outputs": [
        {
          "output_type": "execute_result",
          "data": {
            "text/plain": [
              "{'directional accuracy': 0.41025641025641024,\n",
              " 'pct increasing': 0.42735042735042733,\n",
              " 'pred vs gt DA difference': -0.01709401709401709}"
            ]
          },
          "metadata": {},
          "execution_count": 13
        }
      ]
    },
    {
      "cell_type": "code",
      "source": [
        "companies[0]"
      ],
      "metadata": {
        "colab": {
          "base_uri": "https://localhost:8080/",
          "height": 35
        },
        "id": "51LLDJpQ5pna",
        "outputId": "ee220468-9e50-4a20-f779-7fcb498fde37"
      },
      "execution_count": null,
      "outputs": [
        {
          "output_type": "execute_result",
          "data": {
            "text/plain": [
              "'CAG'"
            ],
            "application/vnd.google.colaboratory.intrinsic+json": {
              "type": "string"
            }
          },
          "metadata": {},
          "execution_count": 14
        }
      ]
    }
  ]
}