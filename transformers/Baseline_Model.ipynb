{
 "cells": [
  {
   "metadata": {
    "ExecuteTime": {
     "end_time": "2024-04-22T04:53:40.840749Z",
     "start_time": "2024-04-22T04:53:40.273976Z"
    }
   },
   "cell_type": "code",
   "source": "from Datasets import BaselineDataset",
   "id": "3f49662f144fe817",
   "outputs": [],
   "execution_count": 1
  },
  {
   "metadata": {
    "ExecuteTime": {
     "end_time": "2024-04-22T04:53:40.921496Z",
     "start_time": "2024-04-22T04:53:40.842218Z"
    }
   },
   "cell_type": "code",
   "source": [
    "# Ensure data directory is populated with https://drive.google.com/drive/folders/1pjHyFlThbpXcvldabLOZZwf4dHaM-p54?usp=share_link\n",
    "\n",
    "ticker = \"AAPL\"\n",
    "data_dir = \"../data\"\n",
    "baseline_dataset = BaselineDataset(ticker, data_dir)"
   ],
   "id": "53de574cb1a31002",
   "outputs": [],
   "execution_count": 2
  },
  {
   "metadata": {
    "ExecuteTime": {
     "end_time": "2024-04-22T04:53:40.925109Z",
     "start_time": "2024-04-22T04:53:40.922228Z"
    }
   },
   "cell_type": "code",
   "source": "len(baseline_dataset) # should be # of dates minus 7",
   "id": "ae0912f4ac8f16c3",
   "outputs": [
    {
     "data": {
      "text/plain": [
       "2427"
      ]
     },
     "execution_count": 3,
     "metadata": {},
     "output_type": "execute_result"
    }
   ],
   "execution_count": 3
  },
  {
   "metadata": {
    "ExecuteTime": {
     "end_time": "2024-04-22T04:53:40.929238Z",
     "start_time": "2024-04-22T04:53:40.925814Z"
    }
   },
   "cell_type": "code",
   "source": "baseline_dataset[0]",
   "id": "217ec72f69eb170b",
   "outputs": [
    {
     "data": {
      "text/plain": [
       "(tensor([22.4500, 22.7700, 23.0300, 23.1200, 23.0600, 23.4200, 23.5600]),\n",
       " tensor(23.4700))"
      ]
     },
     "execution_count": 4,
     "metadata": {},
     "output_type": "execute_result"
    }
   ],
   "execution_count": 4
  }
 ],
 "metadata": {
  "kernelspec": {
   "display_name": "Python 3",
   "language": "python",
   "name": "python3"
  },
  "language_info": {
   "codemirror_mode": {
    "name": "ipython",
    "version": 2
   },
   "file_extension": ".py",
   "mimetype": "text/x-python",
   "name": "python",
   "nbconvert_exporter": "python",
   "pygments_lexer": "ipython2",
   "version": "2.7.6"
  }
 },
 "nbformat": 4,
 "nbformat_minor": 5
}
