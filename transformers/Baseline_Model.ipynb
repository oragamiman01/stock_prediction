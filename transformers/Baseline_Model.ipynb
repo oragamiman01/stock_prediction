{
 "cells": [
  {
   "metadata": {
    "ExecuteTime": {
     "end_time": "2024-04-22T16:56:10.568390Z",
     "start_time": "2024-04-22T16:56:10.091415Z"
    }
   },
   "cell_type": "code",
   "source": "from Datasets import BaselineDataset",
   "id": "3f49662f144fe817",
   "outputs": [],
   "execution_count": 2
  },
  {
   "metadata": {
    "ExecuteTime": {
     "end_time": "2024-04-22T16:56:10.642899Z",
     "start_time": "2024-04-22T16:56:10.569313Z"
    }
   },
   "cell_type": "code",
   "source": [
    "# Ensure data directory is populated with https://drive.google.com/drive/folders/1pjHyFlThbpXcvldabLOZZwf4dHaM-p54?usp=share_link\n",
    "\n",
    "ticker = \"AAPL\"\n",
    "data_dir = \"../data\"\n",
    "baseline_dataset = BaselineDataset(ticker, data_dir)"
   ],
   "id": "53de574cb1a31002",
   "outputs": [],
   "execution_count": 3
  },
  {
   "metadata": {
    "ExecuteTime": {
     "end_time": "2024-04-22T16:56:10.646264Z",
     "start_time": "2024-04-22T16:56:10.643677Z"
    }
   },
   "cell_type": "code",
   "source": "len(baseline_dataset) # should be # of dates minus 7",
   "id": "ae0912f4ac8f16c3",
   "outputs": [
    {
     "data": {
      "text/plain": [
       "2427"
      ]
     },
     "execution_count": 4,
     "metadata": {},
     "output_type": "execute_result"
    }
   ],
   "execution_count": 4
  },
  {
   "metadata": {
    "ExecuteTime": {
     "end_time": "2024-04-22T16:56:10.649913Z",
     "start_time": "2024-04-22T16:56:10.647315Z"
    }
   },
   "cell_type": "code",
   "source": "baseline_dataset[0]",
   "id": "217ec72f69eb170b",
   "outputs": [
    {
     "data": {
      "text/plain": [
       "(tensor([22.4500, 22.7700, 23.0300, 23.1200, 23.0600, 23.4200, 23.5600]),\n",
       " tensor(23.4700))"
      ]
     },
     "execution_count": 5,
     "metadata": {},
     "output_type": "execute_result"
    }
   ],
   "execution_count": 5
  },
  {
   "metadata": {
    "ExecuteTime": {
     "end_time": "2024-04-22T16:56:11.566551Z",
     "start_time": "2024-04-22T16:56:11.475625Z"
    }
   },
   "cell_type": "code",
   "source": [
    "from StockDataWrapper import get_time_series\n",
    "s = get_time_series(ticker, data_dir)\n"
   ],
   "id": "6e0150c181b276e",
   "outputs": [],
   "execution_count": 6
  }
 ],
 "metadata": {
  "kernelspec": {
   "display_name": "Python 3",
   "language": "python",
   "name": "python3"
  },
  "language_info": {
   "codemirror_mode": {
    "name": "ipython",
    "version": 2
   },
   "file_extension": ".py",
   "mimetype": "text/x-python",
   "name": "python",
   "nbconvert_exporter": "python",
   "pygments_lexer": "ipython2",
   "version": "2.7.6"
  }
 },
 "nbformat": 4,
 "nbformat_minor": 5
}
