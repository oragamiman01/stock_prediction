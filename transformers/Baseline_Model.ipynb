{
 "cells": [
  {
   "metadata": {
    "ExecuteTime": {
     "end_time": "2024-05-03T17:56:06.305040Z",
     "start_time": "2024-05-03T17:56:05.628784Z"
    }
   },
   "cell_type": "code",
   "source": [
    "from torch.utils.data import DataLoader\n",
    "\n",
    "from Datasets import BaselineDataset, AllKnobsDataset_train, AllKnobsDataset_test\n",
    "from Models import TransformerAgent\n",
    "import torch"
   ],
   "id": "3f49662f144fe817",
   "outputs": [],
   "execution_count": 1
  },
  {
   "metadata": {
    "ExecuteTime": {
     "end_time": "2024-05-03T17:56:08.631964Z",
     "start_time": "2024-05-03T17:56:06.306059Z"
    }
   },
   "cell_type": "code",
   "source": [
    "# Ensure data directory is populated with https://drive.google.com/drive/folders/1pjHyFlThbpXcvldabLOZZwf4dHaM-p54?usp=share_link\n",
    "\n",
    "ticker = \"AAPL\"\n",
    "data_dir = \"../data\"\n",
    "# baseline_dataset = BaselineDataset(ticker, data_dir)\n",
    "allKnobs_dataset_train = AllKnobsDataset_train(ticker, data_dir)\n",
    "allKnobs_dataloader_train = DataLoader(allKnobs_dataset_train, batch_size=32, shuffle=True)\n",
    "\n",
    "allKnobs_dataset_test = AllKnobsDataset_test(ticker, data_dir)\n",
    "allKnobs_dataloader_test = DataLoader(allKnobs_dataset_test, batch_size=4, shuffle=True)"
   ],
   "id": "53de574cb1a31002",
   "outputs": [],
   "execution_count": 2
  },
  {
   "metadata": {
    "ExecuteTime": {
     "end_time": "2024-05-03T17:56:08.634358Z",
     "start_time": "2024-05-03T17:56:08.632816Z"
    }
   },
   "cell_type": "code",
   "source": [
    "print(len(allKnobs_dataset_train))\n",
    "print(len(allKnobs_dataset_test))"
   ],
   "id": "24254dbe8a5191c",
   "outputs": [
    {
     "name": "stdout",
     "output_type": "stream",
     "text": [
      "1704\n",
      "365\n"
     ]
    }
   ],
   "execution_count": 3
  },
  {
   "metadata": {
    "ExecuteTime": {
     "end_time": "2024-05-03T17:56:09.011777Z",
     "start_time": "2024-05-03T17:56:08.634856Z"
    }
   },
   "cell_type": "code",
   "source": [
    "device = \"cuda\" if torch.cuda.is_available() else \"mps\" if torch.backends.mps.is_available() else \"cpu\"\n",
    "embedding_dim = len(allKnobs_dataset_train[0][0][0])\n",
    "hidden_dim = 2048\n",
    "num_layers = 16\n",
    "num_atn_heads = 11  # with 22 features, this can only be 1, 2, 11, or 22\n",
    "checkpoint_dir = \"./checkpoints/all_V1\"\n",
    "init_lr = 2\n",
    "lr_decay = 0.5\n",
    "min_lr = 0.00000025\n",
    "decay_lr_every = 10\n",
    "agent = TransformerAgent(embedding_dim, hidden_dim, num_atn_heads, num_layers, device, checkpoint_dir, init_lr, lr_decay, min_lr, decay_lr_every)"
   ],
   "id": "dadea2b0a4b85b24",
   "outputs": [],
   "execution_count": 4
  },
  {
   "metadata": {
    "jupyter": {
     "is_executing": true
    },
    "ExecuteTime": {
     "start_time": "2024-05-03T17:56:09.013204Z"
    }
   },
   "cell_type": "code",
   "source": [
    "train_agent = True\n",
    "if train_agent:\n",
    "    agent.train(allKnobs_dataloader_train, 500)"
   ],
   "id": "2324378b8e8eda6e",
   "outputs": [
    {
     "name": "stdout",
     "output_type": "stream",
     "text": [
      "Epoch 1, Loss: 556.9349; Average Loss: 0.3268397216785682; lr: [2.0]\n",
      "Epoch 2, Loss: 445.4446; Average Loss: 0.2614111407821727; lr: [2.0]\n"
     ]
    }
   ],
   "execution_count": null
  },
  {
   "metadata": {
    "jupyter": {
     "is_executing": true
    }
   },
   "cell_type": "code",
   "source": [
    "load_agent = False\n",
    "checkpoint_file = \"./checkpoints/all_V1/\"\n",
    "\n",
    "if load_agent:\n",
    "    agent.load_model(checkpoint_file)"
   ],
   "id": "6b9e37a84c7e977b",
   "outputs": [],
   "execution_count": null
  },
  {
   "metadata": {
    "jupyter": {
     "is_executing": true
    }
   },
   "cell_type": "code",
   "source": [
    "evaluate_agent = False\n",
    "if evaluate_agent:\n",
    "    agent.evaluate(allKnobs_dataloader_test)"
   ],
   "id": "a163e65e4cdddf65",
   "outputs": [],
   "execution_count": null
  },
  {
   "metadata": {
    "jupyter": {
     "is_executing": true
    }
   },
   "cell_type": "code",
   "source": [
    "# THERE IS a way to use the loss to measure actual \"goodness\" since it is scaled in an \"absolute\" way - 0.02 should mean the same \"thing\" for one prediction as it does for another\n",
    "\n",
    "# TODO try L1 loss instead of mse"
   ],
   "id": "4ca663c422c70e1a",
   "outputs": [],
   "execution_count": null
  },
  {
   "metadata": {
    "jupyter": {
     "is_executing": true
    }
   },
   "cell_type": "code",
   "source": "",
   "id": "f951b2d695105dc7",
   "outputs": [],
   "execution_count": null
  },
  {
   "metadata": {
    "jupyter": {
     "is_executing": true
    }
   },
   "cell_type": "code",
   "source": "",
   "id": "be838a4599a788ce",
   "outputs": [],
   "execution_count": null
  },
  {
   "metadata": {
    "jupyter": {
     "is_executing": true
    }
   },
   "cell_type": "code",
   "source": [
    "# for (X, y) in allKnobs_dataloader:\n",
    "#     pred_after = torch.ones(32)\n",
    "#     actual_after = y[:, 0]\n",
    "#     actual_prev_day = y[:, 1]\n",
    "#     \n",
    "#     metric_true = (actual_after - actual_prev_day) / actual_prev_day\n",
    "#     metric_pred = (pred_after - actual_prev_day) / actual_prev_day\n",
    "#     print(actual_prev_day.size())\n",
    "#     break"
   ],
   "id": "f9b0f130540ceb92",
   "outputs": [],
   "execution_count": null
  }
 ],
 "metadata": {
  "kernelspec": {
   "display_name": "Python 3",
   "language": "python",
   "name": "python3"
  },
  "language_info": {
   "codemirror_mode": {
    "name": "ipython",
    "version": 2
   },
   "file_extension": ".py",
   "mimetype": "text/x-python",
   "name": "python",
   "nbconvert_exporter": "python",
   "pygments_lexer": "ipython2",
   "version": "2.7.6"
  }
 },
 "nbformat": 4,
 "nbformat_minor": 5
}
