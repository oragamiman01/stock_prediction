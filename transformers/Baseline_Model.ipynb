{
 "cells": [
  {
   "metadata": {
    "ExecuteTime": {
     "end_time": "2024-05-03T16:31:04.876650Z",
     "start_time": "2024-05-03T16:31:03.997518Z"
    }
   },
   "cell_type": "code",
   "source": [
    "from torch.utils.data import DataLoader\n",
    "\n",
    "from Datasets import BaselineDataset, AllKnobsDataset_train, AllKnobsDataset_test\n",
    "from Models import TransformerAgent\n",
    "import torch"
   ],
   "id": "3f49662f144fe817",
   "outputs": [],
   "execution_count": 1
  },
  {
   "metadata": {
    "ExecuteTime": {
     "end_time": "2024-05-03T16:31:07.220887Z",
     "start_time": "2024-05-03T16:31:04.877638Z"
    }
   },
   "cell_type": "code",
   "source": [
    "# Ensure data directory is populated with https://drive.google.com/drive/folders/1pjHyFlThbpXcvldabLOZZwf4dHaM-p54?usp=share_link\n",
    "\n",
    "ticker = \"AAPL\"\n",
    "data_dir = \"../data\"\n",
    "# baseline_dataset = BaselineDataset(ticker, data_dir)\n",
    "allKnobs_dataset_train = AllKnobsDataset_train(ticker, data_dir)\n",
    "allKnobs_dataloader_train = DataLoader(allKnobs_dataset_train, batch_size=32, shuffle=True)\n",
    "\n",
    "allKnobs_dataset_test = AllKnobsDataset_test(ticker, data_dir)\n",
    "allKnobs_dataloader_test = DataLoader(allKnobs_dataset_test, batch_size=32, shuffle=True)"
   ],
   "id": "53de574cb1a31002",
   "outputs": [],
   "execution_count": 2
  },
  {
   "metadata": {
    "ExecuteTime": {
     "end_time": "2024-05-03T16:31:07.223187Z",
     "start_time": "2024-05-03T16:31:07.221564Z"
    }
   },
   "cell_type": "code",
   "source": [
    "print(len(allKnobs_dataset_train))\n",
    "print(len(allKnobs_dataset_test))"
   ],
   "id": "24254dbe8a5191c",
   "outputs": [
    {
     "name": "stdout",
     "output_type": "stream",
     "text": [
      "1704\n",
      "365\n"
     ]
    }
   ],
   "execution_count": 3
  },
  {
   "metadata": {
    "ExecuteTime": {
     "end_time": "2024-05-03T16:31:07.730262Z",
     "start_time": "2024-05-03T16:31:07.223806Z"
    }
   },
   "cell_type": "code",
   "source": [
    "device = \"cuda\" if torch.cuda.is_available() else \"mps\" if torch.backends.mps.is_available() else \"cpu\"\n",
    "embedding_dim = len(allKnobs_dataset_train[0][0][0])\n",
    "hidden_dim = 2048\n",
    "num_layers = 16\n",
    "num_atn_heads = 11  # with 22 features, this can only be 1, 2, 11, or 22\n",
    "checkpoint_dir = \"./checkpoints/all_V1\"\n",
    "init_lr = 3\n",
    "lr_decay = 0.01\n",
    "min_lr = 0.00000025\n",
    "decay_lr_every = 2\n",
    "agent = TransformerAgent(embedding_dim, hidden_dim, num_atn_heads, num_layers, device, checkpoint_dir, init_lr, lr_decay, min_lr, decay_lr_every)"
   ],
   "id": "dadea2b0a4b85b24",
   "outputs": [],
   "execution_count": 4
  },
  {
   "metadata": {
    "jupyter": {
     "is_executing": true
    },
    "ExecuteTime": {
     "start_time": "2024-05-03T16:31:07.731633Z"
    }
   },
   "cell_type": "code",
   "source": "agent.train(allKnobs_dataloader_train, 500)",
   "id": "2324378b8e8eda6e",
   "outputs": [
    {
     "name": "stdout",
     "output_type": "stream",
     "text": [
      "Epoch 1, Loss: 16.3689; Average Loss: 0.009606144592130968; lr: [3.0]\n",
      "Epoch 2, Loss: 12.9594; Average Loss: 0.007605262039482873; lr: [0.03]\n",
      "Epoch 3, Loss: 13.9144; Average Loss: 0.00816573624109998; lr: [0.03]\n",
      "Epoch 4, Loss: 13.4796; Average Loss: 0.007910540790904856; lr: [0.00030000000000000003]\n",
      "Epoch 5, Loss: 13.1021; Average Loss: 0.007689036393949124; lr: [0.00030000000000000003]\n",
      "Epoch 6, Loss: 13.1621; Average Loss: 0.007724223719656188; lr: [3.0000000000000005e-06]\n",
      "Epoch 7, Loss: 13.2843; Average Loss: 0.007795940148928356; lr: [3.0000000000000005e-06]\n",
      "Epoch 8, Loss: 13.0810; Average Loss: 0.007676647000994201; lr: [2.5e-07]\n",
      "Epoch 9, Loss: 13.1380; Average Loss: 0.007710088359218248; lr: [2.5e-07]\n",
      "Epoch 10, Loss: 13.2157; Average Loss: 0.007755705903113728; lr: [2.5e-07]\n",
      "Epoch 11, Loss: 13.0845; Average Loss: 0.007678671342106492; lr: [2.5e-07]\n",
      "Epoch 12, Loss: 13.0841; Average Loss: 0.0076784630931319205; lr: [2.5e-07]\n",
      "Epoch 13, Loss: 13.2927; Average Loss: 0.007800887754195733; lr: [2.5e-07]\n",
      "Epoch 14, Loss: 13.1315; Average Loss: 0.007706257947523829; lr: [2.5e-07]\n",
      "Epoch 15, Loss: 13.1024; Average Loss: 0.007689198741400746; lr: [2.5e-07]\n",
      "Epoch 16, Loss: 13.2443; Average Loss: 0.007772453391635922; lr: [2.5e-07]\n",
      "Epoch 17, Loss: 13.1507; Average Loss: 0.007717554496837334; lr: [2.5e-07]\n",
      "Epoch 18, Loss: 13.2270; Average Loss: 0.0077623421492431085; lr: [2.5e-07]\n",
      "Epoch 19, Loss: 13.0988; Average Loss: 0.007687069939125871; lr: [2.5e-07]\n",
      "Epoch 20, Loss: 13.2316; Average Loss: 0.0077650121330095564; lr: [2.5e-07]\n",
      "Epoch 21, Loss: 13.2172; Average Loss: 0.00775658174859526; lr: [2.5e-07]\n",
      "Epoch 22, Loss: 13.1319; Average Loss: 0.007706518271859263; lr: [2.5e-07]\n",
      "Epoch 23, Loss: 13.0785; Average Loss: 0.0076752016714341205; lr: [2.5e-07]\n",
      "Epoch 24, Loss: 13.2971; Average Loss: 0.0078034346022516346; lr: [2.5e-07]\n",
      "Epoch 25, Loss: 13.1272; Average Loss: 0.007703734937827912; lr: [2.5e-07]\n",
      "Epoch 26, Loss: 13.1374; Average Loss: 0.007709761180788139; lr: [2.5e-07]\n",
      "Epoch 27, Loss: 13.2198; Average Loss: 0.007758105095003692; lr: [2.5e-07]\n",
      "Epoch 28, Loss: 13.0662; Average Loss: 0.007667938417846888; lr: [2.5e-07]\n",
      "Epoch 29, Loss: 13.1782; Average Loss: 0.007733694929192324; lr: [2.5e-07]\n",
      "Epoch 30, Loss: 13.2362; Average Loss: 0.007767715950457143; lr: [2.5e-07]\n",
      "Epoch 31, Loss: 13.1901; Average Loss: 0.007740642000951678; lr: [2.5e-07]\n",
      "Epoch 32, Loss: 13.0760; Average Loss: 0.0076737031296875; lr: [2.5e-07]\n",
      "Epoch 33, Loss: 13.1308; Average Loss: 0.007705893192632657; lr: [2.5e-07]\n",
      "Epoch 34, Loss: 13.1798; Average Loss: 0.007734599501384256; lr: [2.5e-07]\n"
     ]
    }
   ],
   "execution_count": null
  },
  {
   "metadata": {
    "jupyter": {
     "is_executing": true
    }
   },
   "cell_type": "code",
   "source": "# THERE IS a way to use the loss to measure actual \"goodness\" since it is scaled in an \"absolute\" way - 0.02 should mean the same \"thing\" for one prediction as it does for another",
   "id": "4ca663c422c70e1a",
   "outputs": [],
   "execution_count": null
  },
  {
   "metadata": {
    "jupyter": {
     "is_executing": true
    }
   },
   "cell_type": "code",
   "source": "",
   "id": "f951b2d695105dc7",
   "outputs": [],
   "execution_count": null
  },
  {
   "metadata": {
    "jupyter": {
     "is_executing": true
    }
   },
   "cell_type": "code",
   "source": "",
   "id": "be838a4599a788ce",
   "outputs": [],
   "execution_count": null
  },
  {
   "metadata": {
    "jupyter": {
     "is_executing": true
    }
   },
   "cell_type": "code",
   "source": [
    "# for (X, y) in allKnobs_dataloader:\n",
    "#     pred_after = torch.ones(32)\n",
    "#     actual_after = y[:, 0]\n",
    "#     actual_prev_day = y[:, 1]\n",
    "#     \n",
    "#     metric_true = (actual_after - actual_prev_day) / actual_prev_day\n",
    "#     metric_pred = (pred_after - actual_prev_day) / actual_prev_day\n",
    "#     print(actual_prev_day.size())\n",
    "#     break"
   ],
   "id": "f9b0f130540ceb92",
   "outputs": [],
   "execution_count": null
  }
 ],
 "metadata": {
  "kernelspec": {
   "display_name": "Python 3",
   "language": "python",
   "name": "python3"
  },
  "language_info": {
   "codemirror_mode": {
    "name": "ipython",
    "version": 2
   },
   "file_extension": ".py",
   "mimetype": "text/x-python",
   "name": "python",
   "nbconvert_exporter": "python",
   "pygments_lexer": "ipython2",
   "version": "2.7.6"
  }
 },
 "nbformat": 4,
 "nbformat_minor": 5
}
