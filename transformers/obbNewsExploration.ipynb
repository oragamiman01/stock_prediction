{
 "cells": [
  {
   "metadata": {
    "ExecuteTime": {
     "end_time": "2024-04-21T22:51:35.186314Z",
     "start_time": "2024-04-21T22:51:30.068781Z"
    }
   },
   "cell_type": "code",
   "source": [
    "from SentimentPerTickerObtainer import save_raw_obb_article_urls, save_sentiment_scores_for_ticker\n",
    "import numpy as np"
   ],
   "id": "7173fa4e97e5361e",
   "outputs": [],
   "execution_count": 1
  },
  {
   "metadata": {
    "ExecuteTime": {
     "end_time": "2024-04-21T22:51:36.124543Z",
     "start_time": "2024-04-21T22:51:36.122617Z"
    }
   },
   "cell_type": "code",
   "source": [
    "# tickers = [\"AAPL\", \"MSFT\", \"AMZN\", \"NVDA\", \"TSLA\"]\n",
    "\n",
    "start_date = \"2014-06-02\"\n",
    "end_date = \"2024-01-31\"\n",
    "data_dir = \"../data\"\n",
    "\n",
    "# save_raw_obb_article_urls(\"TSLA\", start_date, end_date, data_dir);"
   ],
   "id": "235d38037db29bcf",
   "outputs": [],
   "execution_count": 2
  },
  {
   "metadata": {
    "ExecuteTime": {
     "end_time": "2024-04-21T23:50:27.917107Z",
     "start_time": "2024-04-21T22:51:37.386415Z"
    }
   },
   "cell_type": "code",
   "source": "save_sentiment_scores_for_ticker(\"AAPL\", data_dir)",
   "id": "f9f5339330a5f226",
   "outputs": [
    {
     "name": "stderr",
     "output_type": "stream",
     "text": [
      "[nltk_data] Downloading package punkt to /Users/nader/nltk_data...\n",
      "[nltk_data]   Package punkt is already up-to-date!\n"
     ]
    },
    {
     "name": "stdout",
     "output_type": "stream",
     "text": [
      "processed 0 articles\n",
      "processed 100 articles\n",
      "processed 200 articles\n",
      "processed 300 articles\n",
      "processed 400 articles\n",
      "processed 500 articles\n",
      "processed 700 articles\n",
      "processed 800 articles\n",
      "processed 900 articles\n",
      "processed 1200 articles\n",
      "processed 1300 articles\n",
      "processed 1400 articles\n",
      "processed 1500 articles\n",
      "processed 1600 articles\n",
      "processed 1800 articles\n",
      "processed 2000 articles\n",
      "processed 2100 articles\n",
      "processed 2200 articles\n",
      "processed 2300 articles\n",
      "processed 2400 articles\n",
      "processed 2500 articles\n",
      "processed 2600 articles\n"
     ]
    },
    {
     "name": "stderr",
     "output_type": "stream",
     "text": [
      "Token indices sequence length is longer than the specified maximum sequence length for this model (1147 > 512). Running this sequence through the model will result in indexing errors\n"
     ]
    },
    {
     "name": "stdout",
     "output_type": "stream",
     "text": [
      "processed 2800 articles\n",
      "processed 2900 articles\n",
      "processed 3000 articles\n",
      "processed 3200 articles\n",
      "processed 3300 articles\n",
      "processed 3400 articles\n",
      "processed 3500 articles\n",
      "processed 3600 articles\n",
      "processed 3900 articles\n",
      "processed 4000 articles\n",
      "processed 4400 articles\n",
      "processed 4600 articles\n",
      "processed 4700 articles\n",
      "processed 4900 articles\n",
      "Saved daily sentiment scores for AAPL; Invalid from newspaper: 1728; Invalid from finbert: 1\n"
     ]
    }
   ],
   "execution_count": 3
  },
  {
   "metadata": {
    "ExecuteTime": {
     "end_time": "2024-04-22T00:57:31.056597Z",
     "start_time": "2024-04-21T23:56:17.851874Z"
    }
   },
   "cell_type": "code",
   "source": "save_sentiment_scores_for_ticker(\"MSFT\", data_dir)",
   "id": "109f8be35ea903a8",
   "outputs": [
    {
     "name": "stderr",
     "output_type": "stream",
     "text": [
      "[nltk_data] Downloading package punkt to /Users/nader/nltk_data...\n",
      "[nltk_data]   Package punkt is already up-to-date!\n"
     ]
    },
    {
     "name": "stdout",
     "output_type": "stream",
     "text": [
      "processed 0 articles\n",
      "processed 100 articles\n",
      "processed 200 articles\n",
      "processed 300 articles\n",
      "processed 900 articles\n",
      "processed 1100 articles\n",
      "processed 1200 articles\n",
      "processed 1300 articles\n",
      "processed 1400 articles\n",
      "processed 1500 articles\n",
      "processed 1700 articles\n",
      "processed 1800 articles\n",
      "processed 1900 articles\n",
      "processed 2000 articles\n",
      "processed 2100 articles\n",
      "processed 2200 articles\n",
      "processed 2300 articles\n",
      "processed 2400 articles\n"
     ]
    },
    {
     "name": "stderr",
     "output_type": "stream",
     "text": [
      "Token indices sequence length is longer than the specified maximum sequence length for this model (1141 > 512). Running this sequence through the model will result in indexing errors\n"
     ]
    },
    {
     "name": "stdout",
     "output_type": "stream",
     "text": [
      "processed 2600 articles\n",
      "processed 2700 articles\n"
     ]
    },
    {
     "name": "stderr",
     "output_type": "stream",
     "text": [
      "Token indices sequence length is longer than the specified maximum sequence length for this model (1147 > 512). Running this sequence through the model will result in indexing errors\n"
     ]
    },
    {
     "name": "stdout",
     "output_type": "stream",
     "text": [
      "processed 2900 articles\n",
      "processed 3000 articles\n",
      "processed 3100 articles\n",
      "processed 3200 articles\n",
      "processed 3300 articles\n",
      "processed 3400 articles\n",
      "processed 4000 articles\n",
      "processed 4100 articles\n",
      "processed 4200 articles\n"
     ]
    },
    {
     "name": "stderr",
     "output_type": "stream",
     "text": [
      "Token indices sequence length is longer than the specified maximum sequence length for this model (1140 > 512). Running this sequence through the model will result in indexing errors\n"
     ]
    },
    {
     "name": "stdout",
     "output_type": "stream",
     "text": [
      "processed 4700 articles\n",
      "processed 4900 articles\n",
      "Saved daily sentiment scores for MSFT; Invalid from newspaper: 1542; Invalid from finbert: 3\n"
     ]
    }
   ],
   "execution_count": 7
  },
  {
   "metadata": {
    "ExecuteTime": {
     "end_time": "2024-04-22T02:00:04.999759Z",
     "start_time": "2024-04-22T00:57:31.057883Z"
    }
   },
   "cell_type": "code",
   "source": "save_sentiment_scores_for_ticker(\"AMZN\", data_dir)",
   "id": "7f064e1037e5b21b",
   "outputs": [
    {
     "name": "stderr",
     "output_type": "stream",
     "text": [
      "[nltk_data] Downloading package punkt to /Users/nader/nltk_data...\n",
      "[nltk_data]   Package punkt is already up-to-date!\n"
     ]
    },
    {
     "name": "stdout",
     "output_type": "stream",
     "text": [
      "processed 0 articles\n",
      "processed 100 articles\n",
      "processed 200 articles\n",
      "processed 300 articles\n",
      "processed 400 articles\n",
      "processed 500 articles\n",
      "processed 700 articles\n",
      "processed 800 articles\n",
      "processed 900 articles\n",
      "processed 1000 articles\n",
      "processed 1100 articles\n",
      "processed 1200 articles\n"
     ]
    },
    {
     "name": "stderr",
     "output_type": "stream",
     "text": [
      "Token indices sequence length is longer than the specified maximum sequence length for this model (532 > 512). Running this sequence through the model will result in indexing errors\n"
     ]
    },
    {
     "name": "stdout",
     "output_type": "stream",
     "text": [
      "processed 1600 articles\n",
      "processed 1700 articles\n",
      "processed 1900 articles\n",
      "processed 2100 articles\n",
      "processed 2600 articles\n",
      "processed 2700 articles\n",
      "processed 2800 articles\n",
      "processed 3200 articles\n",
      "processed 3300 articles\n",
      "processed 3500 articles\n",
      "processed 3800 articles\n",
      "processed 3900 articles\n",
      "processed 4000 articles\n",
      "processed 4300 articles\n",
      "processed 4500 articles\n",
      "processed 4800 articles\n",
      "Saved daily sentiment scores for AMZN; Invalid from newspaper: 1450; Invalid from finbert: 1\n"
     ]
    }
   ],
   "execution_count": 8
  },
  {
   "metadata": {
    "ExecuteTime": {
     "end_time": "2024-04-22T03:06:53.548846Z",
     "start_time": "2024-04-22T02:00:05.000630Z"
    }
   },
   "cell_type": "code",
   "source": "save_sentiment_scores_for_ticker(\"NVDA\", data_dir)",
   "id": "38e8a24062774385",
   "outputs": [
    {
     "name": "stderr",
     "output_type": "stream",
     "text": [
      "[nltk_data] Downloading package punkt to /Users/nader/nltk_data...\n",
      "[nltk_data]   Package punkt is already up-to-date!\n"
     ]
    },
    {
     "name": "stdout",
     "output_type": "stream",
     "text": [
      "processed 0 articles\n",
      "processed 100 articles\n",
      "processed 200 articles\n",
      "processed 300 articles\n",
      "processed 400 articles\n",
      "processed 700 articles\n",
      "processed 800 articles\n",
      "processed 900 articles\n",
      "processed 1000 articles\n",
      "processed 1200 articles\n",
      "processed 1300 articles\n",
      "processed 1400 articles\n",
      "processed 1500 articles\n",
      "processed 1700 articles\n",
      "processed 1800 articles\n",
      "processed 2100 articles\n",
      "processed 2200 articles\n",
      "processed 2400 articles\n",
      "processed 2600 articles\n",
      "processed 2700 articles\n",
      "processed 2800 articles\n",
      "processed 2900 articles\n",
      "processed 3100 articles\n",
      "processed 3200 articles\n",
      "processed 3300 articles\n",
      "processed 3400 articles\n"
     ]
    },
    {
     "name": "stderr",
     "output_type": "stream",
     "text": [
      "Token indices sequence length is longer than the specified maximum sequence length for this model (1141 > 512). Running this sequence through the model will result in indexing errors\n"
     ]
    },
    {
     "name": "stdout",
     "output_type": "stream",
     "text": [
      "processed 3500 articles\n",
      "processed 3600 articles\n",
      "processed 3700 articles\n",
      "processed 4000 articles\n",
      "processed 4300 articles\n",
      "processed 4400 articles\n",
      "processed 4500 articles\n"
     ]
    },
    {
     "name": "stderr",
     "output_type": "stream",
     "text": [
      "Token indices sequence length is longer than the specified maximum sequence length for this model (746 > 512). Running this sequence through the model will result in indexing errors\n"
     ]
    },
    {
     "name": "stdout",
     "output_type": "stream",
     "text": [
      "processed 4800 articles\n",
      "processed 4900 articles\n",
      "Saved daily sentiment scores for NVDA; Invalid from newspaper: 1262; Invalid from finbert: 2\n"
     ]
    }
   ],
   "execution_count": 9
  },
  {
   "metadata": {
    "ExecuteTime": {
     "end_time": "2024-04-22T04:01:19.738286Z",
     "start_time": "2024-04-22T03:06:53.550175Z"
    }
   },
   "cell_type": "code",
   "source": "save_sentiment_scores_for_ticker(\"TSLA\", data_dir)",
   "id": "64d9a968f66452f3",
   "outputs": [
    {
     "name": "stderr",
     "output_type": "stream",
     "text": [
      "[nltk_data] Downloading package punkt to /Users/nader/nltk_data...\n",
      "[nltk_data]   Package punkt is already up-to-date!\n"
     ]
    },
    {
     "name": "stdout",
     "output_type": "stream",
     "text": [
      "processed 0 articles\n",
      "processed 100 articles\n",
      "processed 400 articles\n",
      "processed 600 articles\n",
      "processed 800 articles\n",
      "processed 900 articles\n",
      "processed 1000 articles\n",
      "processed 1100 articles\n",
      "processed 1300 articles\n",
      "processed 1400 articles\n",
      "processed 1500 articles\n",
      "processed 1700 articles\n",
      "processed 1900 articles\n",
      "processed 2300 articles\n",
      "processed 2400 articles\n",
      "processed 2500 articles\n",
      "processed 3100 articles\n",
      "processed 3200 articles\n",
      "processed 3500 articles\n",
      "processed 3600 articles\n",
      "processed 3800 articles\n",
      "processed 4000 articles\n",
      "processed 4100 articles\n",
      "processed 4300 articles\n",
      "processed 4600 articles\n",
      "processed 4700 articles\n",
      "processed 4900 articles\n",
      "Saved daily sentiment scores for TSLA; Invalid from newspaper: 1988; Invalid from finbert: 0\n"
     ]
    }
   ],
   "execution_count": 10
  },
  {
   "metadata": {},
   "cell_type": "code",
   "outputs": [],
   "execution_count": null,
   "source": "",
   "id": "f147b7fbaa022a0c"
  },
  {
   "metadata": {},
   "cell_type": "code",
   "outputs": [],
   "execution_count": null,
   "source": "",
   "id": "4b1fd2184efaff91"
  },
  {
   "metadata": {},
   "cell_type": "code",
   "outputs": [],
   "execution_count": null,
   "source": "",
   "id": "db98cf0a910a4d04"
  },
  {
   "metadata": {
    "ExecuteTime": {
     "end_time": "2024-04-22T04:44:01.360787Z",
     "start_time": "2024-04-22T04:44:01.358713Z"
    }
   },
   "cell_type": "code",
   "source": "sents = np.load(f\"{data_dir}/sentimentsRaw/TSLA/dailySentimentScores.npy\", allow_pickle=True).item()",
   "id": "cabcf3c7908c5c82",
   "outputs": [],
   "execution_count": 23
  },
  {
   "metadata": {
    "ExecuteTime": {
     "end_time": "2024-04-22T04:44:01.853749Z",
     "start_time": "2024-04-22T04:44:01.851397Z"
    }
   },
   "cell_type": "code",
   "source": "len(sents)",
   "id": "6650c261e38d7803",
   "outputs": [
    {
     "data": {
      "text/plain": [
       "379"
      ]
     },
     "execution_count": 24,
     "metadata": {},
     "output_type": "execute_result"
    }
   ],
   "execution_count": 24
  },
  {
   "metadata": {},
   "cell_type": "code",
   "outputs": [],
   "execution_count": null,
   "source": "",
   "id": "966a452d1b84bfc2"
  }
 ],
 "metadata": {
  "kernelspec": {
   "display_name": "Python 3",
   "language": "python",
   "name": "python3"
  },
  "language_info": {
   "codemirror_mode": {
    "name": "ipython",
    "version": 2
   },
   "file_extension": ".py",
   "mimetype": "text/x-python",
   "name": "python",
   "nbconvert_exporter": "python",
   "pygments_lexer": "ipython2",
   "version": "2.7.6"
  }
 },
 "nbformat": 4,
 "nbformat_minor": 5
}
