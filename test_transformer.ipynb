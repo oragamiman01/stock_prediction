{
 "cells": [
  {
   "cell_type": "code",
   "execution_count": 1,
   "metadata": {},
   "outputs": [
    {
     "name": "stdout",
     "output_type": "stream",
     "text": [
      "Using GPU\n"
     ]
    }
   ],
   "source": [
    "import torch\n",
    "import torch.nn as nn\n",
    "import pandas as pd\n",
    "import os\n",
    "import numpy as np\n",
    "import matplotlib.pyplot as plt\n",
    "from tqdm import tqdm\n",
    "from torch.utils.data import DataLoader, TensorDataset\n",
    "from torch.optim.lr_scheduler import ReduceLROnPlateau\n",
    "from torchinfo import summary\n",
    "from datetime import datetime\n",
    "from helpers import *\n",
    "\n",
    "if torch.cuda.is_available():\n",
    "    print(\"Using GPU\")\n",
    "    device = torch.device(\"cuda\")\n",
    "elif torch.backends.mps.is_available():\n",
    "    print(\"Using MPS\")\n",
    "    device = torch.device(\"mps\")\n",
    "else:\n",
    "    print(\"Using CPU\")\n",
    "    device = torch.device(\"cpu\")\n"
   ]
  },
  {
   "cell_type": "markdown",
   "metadata": {},
   "source": [
    "# Hyperparameters"
   ]
  },
  {
   "cell_type": "code",
   "execution_count": 2,
   "metadata": {},
   "outputs": [],
   "source": [
    "seq_size = 30 # number of previous days used to predict next day\n",
    "test_start_date = pd.to_datetime(\"2023-01-01\")\n",
    "train_start_date = pd.to_datetime(\"2020-01-01\")\n",
    "out_cols = ['pct_change']\n",
    "epochs = 25\n",
    "batch_size = 256\n",
    "d_model = 64 # number of input features to encoder layer\n",
    "nhead = 8 # number of heads in multiheadattention\n",
    "num_layers = 16 # number of encoder layers\n",
    "dropout = 0.1 # dropout probability"
   ]
  },
  {
   "cell_type": "code",
   "execution_count": 3,
   "metadata": {},
   "outputs": [
    {
     "name": "stderr",
     "output_type": "stream",
     "text": [
      "  0%|          | 0/503 [00:00<?, ?it/s]"
     ]
    },
    {
     "name": "stderr",
     "output_type": "stream",
     "text": [
      "100%|██████████| 503/503 [00:24<00:00, 20.82it/s]\n"
     ]
    }
   ],
   "source": [
    "# loading data\n",
    "data_path = 'data'\n",
    "interval = '1d'\n",
    "companies = os.listdir(data_path)\n",
    "# companies = ['AAPL']\n",
    "for c in companies:\n",
    "    if c == 'constituents.csv':\n",
    "        companies.remove(c)\n",
    "    elif c == '.DS_Store':\n",
    "        companies.remove('.DS_Store')\n",
    "\n",
    "# make unique number for each company ticker\n",
    "ids = np.linspace(0, 1, len(companies)).round(5)\n",
    "company_stats = dict() # keys are ticker, values are that company's stat dict\n",
    "num_to_ticker = dict()\n",
    "ticker_to_num = dict()\n",
    "for i, num in enumerate(ids):\n",
    "    num_to_ticker[str(num)] = companies[i]\n",
    "    ticker_to_num[companies[i]] = num\n",
    "\n",
    "df_list = []\n",
    "stats_list = []\n",
    "x_train = []\n",
    "x_test = []\n",
    "y_train = []\n",
    "y_test = []\n",
    "dates = []\n",
    "\n",
    "for co in tqdm(companies):\n",
    "    files = os.listdir(os.path.join(data_path, co))\n",
    "    for f in files: # check each company folder for specific interval of data\n",
    "        if interval in f:\n",
    "            file = f\n",
    "\n",
    "    df = pd.read_csv(os.path.join(data_path, co, file))\n",
    "    df['date'] = pd.to_datetime(df['date'])\n",
    "    # remove blank column\n",
    "    df = df.drop(columns=['Unnamed: 0'])\n",
    "    # remove data before training start date\n",
    "    df = df[df['date'] >= train_start_date]\n",
    "\n",
    "    # normalize columns, excluding date column\n",
    "    df_normed, stat_dict = z_norm(df, 'date')\n",
    "    # add ticker column\n",
    "    df_normed['ticker'] = ticker_to_num[co]\n",
    "\n",
    "    cols = list(df_normed.columns)\n",
    "    cols.append(cols.pop(cols.index('date'))) # move date to end of list since this will be the order of columns for output df\n",
    "\n",
    "    # split each df into train and test timeframes\n",
    "    df_train = df_normed[df_normed['date'] < test_start_date]\n",
    "    df_test = df_normed[df_normed['date'] >= test_start_date]\n",
    "\n",
    "    pred_dates = df_test['date'].iloc[seq_size:].tolist()\n",
    "    dates.append(pred_dates)\n",
    "\n",
    "    # drop unnecessary columns\n",
    "    df_train = df_train.drop(columns=['date'])\n",
    "    df_test = df_test.drop(columns=['date'])\n",
    "\n",
    "    # store column indices for extracting output features we want\n",
    "    feature_cols_idx = [list(df_train.columns).index(feature) for feature in out_cols]\n",
    "\n",
    "    # convert to 2D numpy arrays of shape (-1, num_cols)\n",
    "    train = df_train.to_numpy()\n",
    "    test = df_test.to_numpy()\n",
    "\n",
    "    # convert to sequences and append to respective training and testing lists\n",
    "    x, y = to_sequences(seq_size, train)\n",
    "    for i in range(len(x)):\n",
    "        x_train.append(x[i])\n",
    "        y_train.append(y[i])\n",
    "    x, y = to_sequences(seq_size, test)\n",
    "    for i in range(len(x)):\n",
    "        x_test.append(x[i])\n",
    "        y_test.append(y[i])\n",
    "\n",
    "    company_stats[co] = stat_dict\n",
    "    stats_list.append(stat_dict)\n",
    "\n",
    "indims = y_train[0].shape[0]\n",
    "outdims = len(out_cols)\n",
    "dates = [element for nestedlist in dates for element in nestedlist]\n",
    "\n",
    "x_train = np.vstack(x_train).reshape(-1, seq_size, indims)\n",
    "y_train = np.vstack(y_train).reshape(-1, indims)\n",
    "x_test = np.vstack(x_test).reshape(-1, seq_size, indims)\n",
    "y_test = np.vstack(y_test).reshape(-1, indims)\n",
    "\n",
    "x_train = torch.tensor(x_train, dtype=torch.float32)\n",
    "y_train = torch.tensor(y_train, dtype=torch.float32)\n",
    "x_test = torch.tensor(x_test, dtype=torch.float32)\n",
    "y_test = torch.tensor(y_test, dtype=torch.float32)\n",
    "\n",
    "train_dataset = TensorDataset(x_train, y_train)\n",
    "train_loader = DataLoader(train_dataset, batch_size=batch_size, shuffle=True, num_workers=6, pin_memory=True)\n",
    "\n",
    "test_dataset = TensorDataset(x_test, y_test)\n",
    "test_loader = DataLoader(test_dataset, batch_size=batch_size, shuffle=False, num_workers=6, pin_memory=True)"
   ]
  },
  {
   "cell_type": "markdown",
   "metadata": {},
   "source": [
    "Using basic transformer from https://github.com/jeffheaton/app_deep_learning/blob/main/t81_558_class_10_3_transformer_timeseries.ipynb"
   ]
  },
  {
   "cell_type": "code",
   "execution_count": 4,
   "metadata": {},
   "outputs": [],
   "source": [
    "# Positional Encoding for Transformer\n",
    "class PositionalEncoding(nn.Module):\n",
    "    def __init__(self, d_model, dropout=0.1, max_len=5000):\n",
    "        super(PositionalEncoding, self).__init__()\n",
    "        self.dropout = nn.Dropout(p=dropout)\n",
    "\n",
    "        pe = torch.zeros(max_len, d_model)\n",
    "        position = torch.arange(0, max_len, dtype=torch.float).unsqueeze(1)\n",
    "        div_term = torch.exp(torch.arange(0, d_model, 2).float() * (-np.log(10000.0) / d_model))\n",
    "        pe[:, 0::2] = torch.sin(position * div_term)\n",
    "        pe[:, 1::2] = torch.cos(position * div_term)\n",
    "        pe = pe.unsqueeze(0).transpose(0, 1)\n",
    "        self.register_buffer('pe', pe)\n",
    "\n",
    "    def forward(self, x):\n",
    "        x = x + self.pe[:x.size(0), :]\n",
    "        return self.dropout(x)\n",
    "    \n",
    "# Model definition using Transformer\n",
    "class TransformerModel(nn.Module):\n",
    "    def __init__(self, input_dim=1, output_dim=1, d_model=64, nhead=4, num_layers=2, dropout=0.1):\n",
    "        super(TransformerModel, self).__init__()\n",
    "\n",
    "        self.encoder = nn.Linear(input_dim, d_model)\n",
    "        self.pos_encoder = PositionalEncoding(d_model, dropout)\n",
    "        encoder_layers = nn.TransformerEncoderLayer(d_model, nhead, batch_first=True)\n",
    "        self.transformer_encoder = nn.TransformerEncoder(encoder_layers, num_layers)\n",
    "        self.decoder = nn.Linear(d_model, output_dim)\n",
    "        self.init_weights()\n",
    "\n",
    "    def init_weights(self):\n",
    "        initrange = 0.1    \n",
    "        self.decoder.bias.data.zero_()\n",
    "        self.decoder.weight.data.uniform_(-initrange, initrange)\n",
    "\n",
    "    def forward(self, x):\n",
    "        x = self.encoder(x)\n",
    "        x = self.pos_encoder(x)\n",
    "        x = self.transformer_encoder(x)\n",
    "        x = self.decoder(x[:, -1, :])\n",
    "        return x\n",
    "\n",
    "model = TransformerModel(input_dim=indims, output_dim=outdims, d_model=d_model, nhead=nhead, num_layers=num_layers, dropout=dropout).to(device)"
   ]
  },
  {
   "cell_type": "code",
   "execution_count": 5,
   "metadata": {},
   "outputs": [
    {
     "name": "stderr",
     "output_type": "stream",
     "text": [
      "  0%|          | 0/25 [00:00<?, ?it/s]c:\\Users\\oraga\\anaconda3\\envs\\stocks\\Lib\\site-packages\\torch\\nn\\functional.py:5476: UserWarning: 1Torch was not compiled with flash attention. (Triggered internally at C:\\cb\\pytorch_1000000000000\\work\\aten\\src\\ATen\\native\\transformers\\cuda\\sdp_utils.cpp:263.)\n",
      "  attn_output = scaled_dot_product_attention(q, k, v, attn_mask, dropout_p, is_causal)\n",
      "  4%|▍         | 1/25 [04:44<1:53:51, 284.65s/it]"
     ]
    },
    {
     "name": "stdout",
     "output_type": "stream",
     "text": [
      "Epoch 1/25, Train Loss: 1.1938, Validation Loss: 0.5407\n"
     ]
    },
    {
     "name": "stderr",
     "output_type": "stream",
     "text": [
      "  8%|▊         | 2/25 [09:20<1:47:01, 279.19s/it]"
     ]
    },
    {
     "name": "stdout",
     "output_type": "stream",
     "text": [
      "Epoch 2/25, Train Loss: 1.1867, Validation Loss: 0.5407\n"
     ]
    },
    {
     "name": "stderr",
     "output_type": "stream",
     "text": [
      " 12%|█▏        | 3/25 [13:42<1:39:35, 271.63s/it]"
     ]
    },
    {
     "name": "stdout",
     "output_type": "stream",
     "text": [
      "Epoch 3/25, Train Loss: 1.1862, Validation Loss: 0.5407\n"
     ]
    },
    {
     "name": "stderr",
     "output_type": "stream",
     "text": [
      " 16%|█▌        | 4/25 [18:00<1:33:12, 266.32s/it]"
     ]
    },
    {
     "name": "stdout",
     "output_type": "stream",
     "text": [
      "Epoch 4/25, Train Loss: 1.1860, Validation Loss: 0.5408\n"
     ]
    },
    {
     "name": "stderr",
     "output_type": "stream",
     "text": [
      " 20%|██        | 5/25 [22:18<1:27:47, 263.38s/it]"
     ]
    },
    {
     "name": "stdout",
     "output_type": "stream",
     "text": [
      "Epoch 5/25, Train Loss: 1.1859, Validation Loss: 0.5407\n"
     ]
    },
    {
     "name": "stderr",
     "output_type": "stream",
     "text": [
      " 24%|██▍       | 6/25 [48:11<3:42:14, 701.81s/it]"
     ]
    },
    {
     "name": "stdout",
     "output_type": "stream",
     "text": [
      "Epoch 6/25, Train Loss: 1.1858, Validation Loss: 0.5407\n"
     ]
    },
    {
     "name": "stderr",
     "output_type": "stream",
     "text": [
      " 28%|██▊       | 7/25 [52:30<2:47:05, 556.98s/it]"
     ]
    },
    {
     "name": "stdout",
     "output_type": "stream",
     "text": [
      "Epoch 7/25, Train Loss: 1.1857, Validation Loss: 0.5413\n"
     ]
    },
    {
     "name": "stderr",
     "output_type": "stream",
     "text": [
      " 32%|███▏      | 8/25 [56:49<2:10:53, 461.98s/it]"
     ]
    },
    {
     "name": "stdout",
     "output_type": "stream",
     "text": [
      "Epoch 8/25, Train Loss: 1.1856, Validation Loss: 0.5408\n"
     ]
    },
    {
     "name": "stderr",
     "output_type": "stream",
     "text": [
      " 36%|███▌      | 9/25 [1:07:36<2:18:37, 519.82s/it]"
     ]
    },
    {
     "name": "stdout",
     "output_type": "stream",
     "text": [
      "Epoch 9/25, Train Loss: 1.1856, Validation Loss: 0.5408\n"
     ]
    },
    {
     "name": "stderr",
     "output_type": "stream",
     "text": [
      " 40%|████      | 10/25 [1:11:55<1:49:48, 439.25s/it]"
     ]
    },
    {
     "name": "stdout",
     "output_type": "stream",
     "text": [
      "Epoch 10/25, Train Loss: 1.1856, Validation Loss: 0.5408\n"
     ]
    },
    {
     "name": "stderr",
     "output_type": "stream",
     "text": [
      " 44%|████▍     | 11/25 [1:16:13<1:29:35, 384.00s/it]"
     ]
    },
    {
     "name": "stdout",
     "output_type": "stream",
     "text": [
      "Epoch 11/25, Train Loss: 1.1856, Validation Loss: 0.5408\n"
     ]
    },
    {
     "name": "stderr",
     "output_type": "stream",
     "text": [
      " 48%|████▊     | 12/25 [1:20:32<1:14:56, 345.91s/it]"
     ]
    },
    {
     "name": "stdout",
     "output_type": "stream",
     "text": [
      "Epoch 12/25, Train Loss: 1.1856, Validation Loss: 0.5408\n"
     ]
    },
    {
     "name": "stderr",
     "output_type": "stream",
     "text": [
      " 52%|█████▏    | 13/25 [508:40:42<1845:04:58, 553524.83s/it]"
     ]
    },
    {
     "name": "stdout",
     "output_type": "stream",
     "text": [
      "Epoch 13/25, Train Loss: 1.1856, Validation Loss: 0.5409\n"
     ]
    },
    {
     "name": "stderr",
     "output_type": "stream",
     "text": [
      " 52%|█████▏    | 13/25 [508:43:35<469:35:37, 140878.10s/it] \n"
     ]
    },
    {
     "ename": "KeyboardInterrupt",
     "evalue": "",
     "output_type": "error",
     "traceback": [
      "\u001b[1;31m---------------------------------------------------------------------------\u001b[0m",
      "\u001b[1;31mKeyboardInterrupt\u001b[0m                         Traceback (most recent call last)",
      "Cell \u001b[1;32mIn[5], line 21\u001b[0m\n\u001b[0;32m     19\u001b[0m     loss \u001b[38;5;241m=\u001b[39m criterion(outputs, y_batch)\n\u001b[0;32m     20\u001b[0m     loss\u001b[38;5;241m.\u001b[39mbackward()\n\u001b[1;32m---> 21\u001b[0m     train_losses\u001b[38;5;241m.\u001b[39mappend(\u001b[43mloss\u001b[49m\u001b[38;5;241;43m.\u001b[39;49m\u001b[43mitem\u001b[49m\u001b[43m(\u001b[49m\u001b[43m)\u001b[49m)\n\u001b[0;32m     22\u001b[0m     optimizer\u001b[38;5;241m.\u001b[39mstep()\n\u001b[0;32m     24\u001b[0m \u001b[38;5;66;03m# Validation\u001b[39;00m\n",
      "\u001b[1;31mKeyboardInterrupt\u001b[0m: "
     ]
    }
   ],
   "source": [
    "# Train the model\n",
    "criterion = nn.MSELoss()\n",
    "optimizer = torch.optim.Adam(model.parameters(), lr=0.001)\n",
    "scheduler = ReduceLROnPlateau(optimizer, 'min', factor=0.5, patience=5)\n",
    "\n",
    "early_stop_count = 0\n",
    "min_val_loss = float('inf')\n",
    "\n",
    "for epoch in tqdm(range(epochs)):\n",
    "    model.train()\n",
    "    train_losses = []\n",
    "    for batch in train_loader:\n",
    "        x_batch, y_batch = batch\n",
    "        y_batch = y_batch[:, feature_cols_idx]\n",
    "        x_batch, y_batch = x_batch.to(device), y_batch.to(device)\n",
    "\n",
    "        optimizer.zero_grad()\n",
    "        outputs = model(x_batch)\n",
    "        loss = criterion(outputs, y_batch)\n",
    "        loss.backward()\n",
    "        train_losses.append(loss.item())\n",
    "        optimizer.step()\n",
    "\n",
    "    # Validation\n",
    "    model.eval()\n",
    "    val_losses = []\n",
    "    with torch.no_grad():\n",
    "        for batch in test_loader:\n",
    "            x_batch, y_batch = batch\n",
    "            y_batch = y_batch[:, feature_cols_idx]\n",
    "            x_batch, y_batch = x_batch.to(device), y_batch.to(device)\n",
    "            outputs = model(x_batch)\n",
    "            loss = criterion(outputs, y_batch)\n",
    "            val_losses.append(loss.item())\n",
    "\n",
    "    val_loss = np.mean(val_losses)\n",
    "    train_loss = np.mean(train_losses)\n",
    "    scheduler.step(val_loss)\n",
    "\n",
    "    # uncomment for early stopping\n",
    "    # if val_loss < min_val_loss:\n",
    "    #     min_val_loss = val_loss\n",
    "    #     early_stop_count = 0\n",
    "    # else:\n",
    "    #     early_stop_count += 1\n",
    "\n",
    "    # if early_stop_count >= 5:\n",
    "    #     print(\"Early stopping!\")\n",
    "    #     break\n",
    "    print(f\"Epoch {epoch + 1}/{epochs}, Train Loss: {train_loss:.4f}, Validation Loss: {val_loss:.4f}\")"
   ]
  },
  {
   "cell_type": "code",
   "execution_count": null,
   "metadata": {},
   "outputs": [],
   "source": [
    "saved_weights_path = 'saved_models'\n",
    "fn = f'AAPL_model_{datetime.now().strftime(\"%Y%m%d\")}.pt'"
   ]
  },
  {
   "cell_type": "code",
   "execution_count": null,
   "metadata": {},
   "outputs": [],
   "source": [
    "torch.save(model.state_dict(), os.path.join(saved_weights_path, fn))"
   ]
  },
  {
   "cell_type": "markdown",
   "metadata": {},
   "source": [
    "# Testing"
   ]
  },
  {
   "cell_type": "code",
   "execution_count": 7,
   "metadata": {},
   "outputs": [
    {
     "name": "stderr",
     "output_type": "stream",
     "text": [
      "0it [00:00, ?it/s]"
     ]
    },
    {
     "name": "stderr",
     "output_type": "stream",
     "text": [
      "886it [01:29,  9.91it/s]\n"
     ]
    }
   ],
   "source": [
    "# testing with metrics\n",
    "# model = TransformerModel(input_dim=indims, output_dim=outdims).to(device)\n",
    "# model.load_state_dict(torch.load(os.path.join(saved_weights_path, \"AAPL_model_20240209.pt\")))\n",
    "results = []\n",
    "gt_preds = []\n",
    "with torch.no_grad():\n",
    "    for i, batch in tqdm(enumerate(test_loader)):\n",
    "        x_batch, y_batch = batch\n",
    "        tickers = [num_to_ticker[str(y_batch.detach().numpy()[idx,-1])] for idx in range(y_batch.shape[0])]\n",
    "        y_batch = y_batch[:, feature_cols_idx]\n",
    "        x_batch, y_batch = x_batch.to(device), y_batch.to(device)\n",
    "        outputs = model(x_batch)\n",
    "\n",
    "        gt_outputs = process_results(y_batch, batch_size, i, dates, tickers)\n",
    "        processed_outputs = process_results(outputs, batch_size, i, dates, tickers)\n",
    "\n",
    "        [results.append(out) for out in processed_outputs]\n",
    "        [gt_preds.append(out) for out in gt_outputs]\n",
    "\n",
    "columns = [ele for nested in [out_cols, ['ticker', 'date']] for ele in nested]\n",
    "df_pred = pd.DataFrame(results, columns=columns)\n",
    "df_gt = pd.DataFrame(gt_preds, columns=columns)\n",
    "for co in companies:\n",
    "    df_pred[df_pred['ticker'] == co] = reverse_z_norm(df_pred, company_stats[co], col_exclude=['ticker', 'date'])\n",
    "    df_gt[df_pred['ticker'] == co] = reverse_z_norm(df_gt, company_stats[co], col_exclude=['ticker', 'date'])\n",
    "\n",
    "df_pred = rename_cols(df_pred, '_pred', ['date', 'ticker'])\n",
    "df_gt = rename_cols(df_gt, '_gt', ['date', 'ticker'])\n",
    "df_merged = pd.merge(df_pred, df_gt, 'inner')"
   ]
  },
  {
   "cell_type": "code",
   "execution_count": 8,
   "metadata": {},
   "outputs": [
    {
     "data": {
      "text/html": [
       "<div>\n",
       "<style scoped>\n",
       "    .dataframe tbody tr th:only-of-type {\n",
       "        vertical-align: middle;\n",
       "    }\n",
       "\n",
       "    .dataframe tbody tr th {\n",
       "        vertical-align: top;\n",
       "    }\n",
       "\n",
       "    .dataframe thead th {\n",
       "        text-align: right;\n",
       "    }\n",
       "</style>\n",
       "<table border=\"1\" class=\"dataframe\">\n",
       "  <thead>\n",
       "    <tr style=\"text-align: right;\">\n",
       "      <th></th>\n",
       "      <th>pct_change_pred</th>\n",
       "      <th>ticker</th>\n",
       "      <th>date</th>\n",
       "      <th>pct_change_gt</th>\n",
       "    </tr>\n",
       "  </thead>\n",
       "  <tbody>\n",
       "    <tr>\n",
       "      <th>0</th>\n",
       "      <td>0.000344</td>\n",
       "      <td>A</td>\n",
       "      <td>2022-04-12</td>\n",
       "      <td>-0.044720</td>\n",
       "    </tr>\n",
       "    <tr>\n",
       "      <th>1</th>\n",
       "      <td>0.000234</td>\n",
       "      <td>A</td>\n",
       "      <td>2022-04-13</td>\n",
       "      <td>0.023128</td>\n",
       "    </tr>\n",
       "    <tr>\n",
       "      <th>2</th>\n",
       "      <td>0.000688</td>\n",
       "      <td>A</td>\n",
       "      <td>2022-04-14</td>\n",
       "      <td>-0.014420</td>\n",
       "    </tr>\n",
       "    <tr>\n",
       "      <th>3</th>\n",
       "      <td>0.000653</td>\n",
       "      <td>A</td>\n",
       "      <td>2022-04-18</td>\n",
       "      <td>-0.020563</td>\n",
       "    </tr>\n",
       "    <tr>\n",
       "      <th>4</th>\n",
       "      <td>0.000643</td>\n",
       "      <td>A</td>\n",
       "      <td>2022-04-19</td>\n",
       "      <td>0.021722</td>\n",
       "    </tr>\n",
       "  </tbody>\n",
       "</table>\n",
       "</div>"
      ],
      "text/plain": [
       "   pct_change_pred ticker       date  pct_change_gt\n",
       "0         0.000344      A 2022-04-12      -0.044720\n",
       "1         0.000234      A 2022-04-13       0.023128\n",
       "2         0.000688      A 2022-04-14      -0.014420\n",
       "3         0.000653      A 2022-04-18      -0.020563\n",
       "4         0.000643      A 2022-04-19       0.021722"
      ]
     },
     "execution_count": 8,
     "metadata": {},
     "output_type": "execute_result"
    }
   ],
   "source": [
    "df_merged.head()"
   ]
  },
  {
   "cell_type": "code",
   "execution_count": 21,
   "metadata": {},
   "outputs": [
    {
     "data": {
      "image/png": "[encoded data removed]",
      "text/plain": [
       "<Figure size 640x480 with 1 Axes>"
      ]
     },
     "metadata": {},
     "output_type": "display_data"
    }
   ],
   "source": [
    "df_merged[df_merged['ticker'] == 'AAPL'].plot(x='date', y=['close_pred', 'close_gt'])\n",
    "plt.legend()\n",
    "plt.title(f\"AAPL Close Prediction vs Ground Truth\")\n",
    "plt.show()"
   ]
  },
  {
   "cell_type": "code",
   "execution_count": 9,
   "metadata": {},
   "outputs": [],
   "source": [
    "def directional_accuracy_pct_change(gt_pct, pred_pct):\n",
    "    gt_sign = np.sign(np.asarray(gt_pct))\n",
    "    pred_sign = np.sign(np.asarray(pred_pct))\n",
    "    return np.sum(gt_sign == pred_sign) / len(gt_pct)"
   ]
  },
  {
   "cell_type": "code",
   "execution_count": 10,
   "metadata": {},
   "outputs": [
    {
     "name": "stderr",
     "output_type": "stream",
     "text": [
      " 93%|█████████▎| 468/503 [00:16<00:01, 29.09it/s]C:\\Users\\oraga\\AppData\\Local\\Temp\\ipykernel_5548\\627982602.py:5: RuntimeWarning: invalid value encountered in scalar divide\n",
      "  return np.sum(gt_sign == pred_sign) / len(gt_pct)\n",
      "100%|██████████| 503/503 [00:17<00:00, 29.04it/s]\n"
     ]
    }
   ],
   "source": [
    "accuracy_metrics = dict()\n",
    "for i in tqdm(range(len(companies))):\n",
    "    gt_rows = df_merged[df_merged['ticker'] == companies[i]]['pct_change_gt']\n",
    "    pred_rows = df_merged[df_merged['ticker'] == companies[i]]['pct_change_pred']\n",
    "    accuracy_metrics[companies[i]] = directional_accuracy_pct_change(gt_rows, pred_rows)"
   ]
  },
  {
   "cell_type": "code",
   "execution_count": 11,
   "metadata": {},
   "outputs": [
    {
     "data": {
      "text/plain": [
       "{'A': 0.4966887417218543,\n",
       " 'AAL': 0.47019867549668876,\n",
       " 'AAPL': 0.5143487858719646,\n",
       " 'ABBV': 0.5275938189845475,\n",
       " 'ABNB': 0.5011037527593819,\n",
       " 'ABT': 0.4966887417218543,\n",
       " 'ACGL': 0.5717439293598234,\n",
       " 'ACN': 0.4988962472406181,\n",
       " 'ADBE': 0.5077262693156733,\n",
       " 'ADI': 0.4988962472406181,\n",
       " 'ADM': 0.5055187637969095,\n",
       " 'ADP': 0.5143487858719646,\n",
       " 'ADSK': 0.5099337748344371,\n",
       " 'AEE': 0.4922737306843267,\n",
       " 'AEP': 0.5253863134657837,\n",
       " 'AES': 0.46799116997792495,\n",
       " 'AFL': 0.5474613686534217,\n",
       " 'AIG': 0.5474613686534217,\n",
       " 'AIZ': 0.543046357615894,\n",
       " 'AJG': 0.543046357615894,\n",
       " 'AKAM': 0.5298013245033113,\n",
       " 'ALB': 0.4878587196467991,\n",
       " 'ALGN': 0.47240618101545256,\n",
       " 'ALL': 0.4966887417218543,\n",
       " 'ALLE': 0.5033112582781457,\n",
       " 'AMAT': 0.4988962472406181,\n",
       " 'AMCR': 0.48123620309050774,\n",
       " 'AMD': 0.4988962472406181,\n",
       " 'AME': 0.5496688741721855,\n",
       " 'AMGN': 0.48123620309050774,\n",
       " 'AMP': 0.5077262693156733,\n",
       " 'AMT': 0.47902869757174393,\n",
       " 'AMZN': 0.5187637969094923,\n",
       " 'ANET': 0.5364238410596026,\n",
       " 'ANSS': 0.4966887417218543,\n",
       " 'AON': 0.5099337748344371,\n",
       " 'AOS': 0.49448123620309054,\n",
       " 'APA': 0.5187637969094923,\n",
       " 'APD': 0.5011037527593819,\n",
       " 'APH': 0.5187637969094923,\n",
       " 'APTV': 0.49448123620309054,\n",
       " 'ARE': 0.4746136865342163,\n",
       " 'ATO': 0.5275938189845475,\n",
       " 'AVB': 0.47902869757174393,\n",
       " 'AVGO': 0.5187637969094923,\n",
       " 'AVY': 0.5209713024282561,\n",
       " 'AWK': 0.4900662251655629,\n",
       " 'AXON': 0.5474613686534217,\n",
       " 'AXP': 0.4988962472406181,\n",
       " 'AZO': 0.5386313465783664,\n",
       " 'BA': 0.5275938189845475,\n",
       " 'BAC': 0.4746136865342163,\n",
       " 'BALL': 0.4856512141280353,\n",
       " 'BAX': 0.4988962472406181,\n",
       " 'BBWI': 0.48123620309050774,\n",
       " 'BBY': 0.4768211920529801,\n",
       " 'BDX': 0.5187637969094923,\n",
       " 'BEN': 0.543046357615894,\n",
       " 'BF-B': 0.5077262693156733,\n",
       " 'BG': 0.4988962472406181,\n",
       " 'BIIB': 0.4778761061946903,\n",
       " 'BIO': 0.4878587196467991,\n",
       " 'BK': 0.5209713024282561,\n",
       " 'BKNG': 0.5452538631346578,\n",
       " 'BKR': 0.5275938189845475,\n",
       " 'BLDR': 0.5562913907284768,\n",
       " 'BLK': 0.5011037527593819,\n",
       " 'BMY': 0.4746136865342163,\n",
       " 'BR': 0.5253863134657837,\n",
       " 'BRK-B': 0.5209713024282561,\n",
       " 'BRO': 0.5253863134657837,\n",
       " 'BSX': 0.5364238410596026,\n",
       " 'BWA': 0.543046357615894,\n",
       " 'BX': 0.5298013245033113,\n",
       " 'BXP': 0.5231788079470199,\n",
       " 'C': 0.4878587196467991,\n",
       " 'CAG': 0.48123620309050774,\n",
       " 'CAH': 0.5562913907284768,\n",
       " 'CARR': 0.5342163355408388,\n",
       " 'CAT': 0.5275938189845475,\n",
       " 'CB': 0.5298013245033113,\n",
       " 'CBOE': 0.5320088300220751,\n",
       " 'CBRE': 0.4988962472406181,\n",
       " 'CCI': 0.4746136865342163,\n",
       " 'CCL': 0.4966887417218543,\n",
       " 'CDNS': 0.5143487858719646,\n",
       " 'CDW': 0.5187637969094923,\n",
       " 'CE': 0.5055187637969095,\n",
       " 'CEG': 0.5396825396825397,\n",
       " 'CF': 0.46578366445916114,\n",
       " 'CFG': 0.4746136865342163,\n",
       " 'CHD': 0.5253863134657837,\n",
       " 'CHRW': 0.5143487858719646,\n",
       " 'CHTR': 0.5011037527593819,\n",
       " 'CI': 0.5452538631346578,\n",
       " 'CINF': 0.5011037527593819,\n",
       " 'CL': 0.5209713024282561,\n",
       " 'CLX': 0.5275938189845475,\n",
       " 'CMA': 0.45253863134657835,\n",
       " 'CMCSA': 0.5187637969094923,\n",
       " 'CME': 0.5011037527593819,\n",
       " 'CMG': 0.5452538631346578,\n",
       " 'CMI': 0.5253863134657837,\n",
       " 'CMS': 0.5121412803532008,\n",
       " 'CNC': 0.5011037527593819,\n",
       " 'CNP': 0.5099337748344371,\n",
       " 'COF': 0.48344370860927155,\n",
       " 'COO': 0.45916114790286977,\n",
       " 'COP': 0.5165562913907285,\n",
       " 'COR': 0.5584988962472406,\n",
       " 'COST': 0.543046357615894,\n",
       " 'CPB': 0.4768211920529801,\n",
       " 'CPRT': 0.5474613686534217,\n",
       " 'CPT': 0.48123620309050774,\n",
       " 'CRL': 0.4900662251655629,\n",
       " 'CRM': 0.5187637969094923,\n",
       " 'CSCO': 0.5055187637969095,\n",
       " 'CSGP': 0.5121412803532008,\n",
       " 'CSX': 0.5011037527593819,\n",
       " 'CTAS': 0.565121412803532,\n",
       " 'CTLT': 0.5055187637969095,\n",
       " 'CTRA': 0.4922737306843267,\n",
       " 'CTSH': 0.4988962472406181,\n",
       " 'CTVA': 0.5011037527593819,\n",
       " 'CVS': 0.4856512141280353,\n",
       " 'CVX': 0.5143487858719646,\n",
       " 'CZR': 0.4988962472406181,\n",
       " 'D': 0.5253863134657837,\n",
       " 'DAL': 0.5187637969094923,\n",
       " 'DAY': 0.4966887417218543,\n",
       " 'DD': 0.4856512141280353,\n",
       " 'DE': 0.5298013245033113,\n",
       " 'DFS': 0.5209713024282561,\n",
       " 'DG': 0.4966887417218543,\n",
       " 'DGX': 0.5077262693156733,\n",
       " 'DHI': 0.5386313465783664,\n",
       " 'DHR': 0.5121412803532008,\n",
       " 'DIS': 0.47902869757174393,\n",
       " 'DLR': 0.5077262693156733,\n",
       " 'DLTR': 0.49448123620309054,\n",
       " 'DOV': 0.5231788079470199,\n",
       " 'DOW': 0.5033112582781457,\n",
       " 'DPZ': 0.5121412803532008,\n",
       " 'DRI': 0.5253863134657837,\n",
       " 'DTE': 0.5253863134657837,\n",
       " 'DUK': 0.5011037527593819,\n",
       " 'DVA': 0.5298013245033113,\n",
       " 'DVN': 0.4988962472406181,\n",
       " 'DXCM': 0.5055187637969095,\n",
       " 'EA': 0.5165562913907285,\n",
       " 'EBAY': 0.4900662251655629,\n",
       " 'ECL': 0.5011037527593819,\n",
       " 'ED': 0.5077262693156733,\n",
       " 'EFX': 0.5364238410596026,\n",
       " 'EG': 0.543046357615894,\n",
       " 'EIX': 0.4922737306843267,\n",
       " 'EL': 0.46799116997792495,\n",
       " 'ELV': 0.49448123620309054,\n",
       " 'EMN': 0.4988962472406181,\n",
       " 'EMR': 0.4856512141280353,\n",
       " 'ENPH': 0.5033112582781457,\n",
       " 'EOG': 0.47019867549668876,\n",
       " 'EPAM': 0.5121412803532008,\n",
       " 'EQIX': 0.5077262693156733,\n",
       " 'EQR': 0.5121412803532008,\n",
       " 'EQT': 0.49448123620309054,\n",
       " 'ES': 0.49448123620309054,\n",
       " 'ESS': 0.5143487858719646,\n",
       " 'ETN': 0.5342163355408388,\n",
       " 'ETR': 0.5077262693156733,\n",
       " 'ETSY': 0.46357615894039733,\n",
       " 'EVRG': 0.4988962472406181,\n",
       " 'EW': 0.4900662251655629,\n",
       " 'EXC': 0.4966887417218543,\n",
       " 'EXPD': 0.5011037527593819,\n",
       " 'EXPE': 0.49448123620309054,\n",
       " 'EXR': 0.45695364238410596,\n",
       " 'F': 0.5121412803532008,\n",
       " 'FANG': 0.5452538631346578,\n",
       " 'FAST': 0.5143487858719646,\n",
       " 'FCX': 0.45695364238410596,\n",
       " 'FDS': 0.5584988962472406,\n",
       " 'FDX': 0.4900662251655629,\n",
       " 'FE': 0.5033112582781457,\n",
       " 'FFIV': 0.5077262693156733,\n",
       " 'FI': 0.5540838852097131,\n",
       " 'FICO': 0.5518763796909493,\n",
       " 'FIS': 0.5077262693156733,\n",
       " 'FITB': 0.5055187637969095,\n",
       " 'FLT': 0.5342163355408388,\n",
       " 'FMC': 0.48344370860927155,\n",
       " 'FOX': 0.4746136865342163,\n",
       " 'FOXA': 0.4900662251655629,\n",
       " 'FRT': 0.4966887417218543,\n",
       " 'FSLR': 0.5033112582781457,\n",
       " 'FTNT': 0.5253863134657837,\n",
       " 'FTV': 0.5209713024282561,\n",
       " 'GD': 0.5187637969094923,\n",
       " 'GE': 0.5099337748344371,\n",
       " 'GEHC': 0.48322147651006714,\n",
       " 'GEN': 0.48344370860927155,\n",
       " 'GILD': 0.5298013245033113,\n",
       " 'GIS': 0.5231788079470199,\n",
       " 'GL': 0.5452538631346578,\n",
       " 'GLW': 0.4988962472406181,\n",
       " 'GM': 0.5253863134657837,\n",
       " 'GNRC': 0.49448123620309054,\n",
       " 'GOOG': 0.5033112582781457,\n",
       " 'GOOGL': 0.5033112582781457,\n",
       " 'GPC': 0.5607064017660044,\n",
       " 'GPN': 0.5077262693156733,\n",
       " 'GRMN': 0.5033112582781457,\n",
       " 'GS': 0.5121412803532008,\n",
       " 'GWW': 0.5496688741721855,\n",
       " 'HAL': 0.5055187637969095,\n",
       " 'HAS': 0.4966887417218543,\n",
       " 'HBAN': 0.4768211920529801,\n",
       " 'HCA': 0.5320088300220751,\n",
       " 'HD': 0.5253863134657837,\n",
       " 'HES': 0.5253863134657837,\n",
       " 'HIG': 0.5408388520971302,\n",
       " 'HII': 0.5231788079470199,\n",
       " 'HLT': 0.5408388520971302,\n",
       " 'HOLX': 0.5077262693156733,\n",
       " 'HON': 0.5165562913907285,\n",
       " 'HPE': 0.5077262693156733,\n",
       " 'HPQ': 0.47902869757174393,\n",
       " 'HRL': 0.5011037527593819,\n",
       " 'HSIC': 0.4768211920529801,\n",
       " 'HST': 0.5298013245033113,\n",
       " 'HSY': 0.4746136865342163,\n",
       " 'HUBB': 0.5408388520971302,\n",
       " 'HUM': 0.5165562913907285,\n",
       " 'HWM': 0.5584988962472406,\n",
       " 'IBM': 0.5474613686534217,\n",
       " 'ICE': 0.5143487858719646,\n",
       " 'IDXX': 0.5077262693156733,\n",
       " 'IEX': 0.5209713024282561,\n",
       " 'IFF': 0.47902869757174393,\n",
       " 'ILMN': 0.45916114790286977,\n",
       " 'INCY': 0.48123620309050774,\n",
       " 'INTC': 0.5187637969094923,\n",
       " 'INTU': 0.5121412803532008,\n",
       " 'INVH': 0.4856512141280353,\n",
       " 'IP': 0.4746136865342163,\n",
       " 'IPG': 0.5033112582781457,\n",
       " 'IQV': 0.4988962472406181,\n",
       " 'IR': 0.5275938189845475,\n",
       " 'IRM': 0.5275938189845475,\n",
       " 'ISRG': 0.5275938189845475,\n",
       " 'IT': 0.5540838852097131,\n",
       " 'ITW': 0.5320088300220751,\n",
       " 'IVZ': 0.4966887417218543,\n",
       " 'J': 0.5209713024282561,\n",
       " 'JBHT': 0.5143487858719646,\n",
       " 'JBL': 0.5386313465783664,\n",
       " 'JCI': 0.5077262693156733,\n",
       " 'JKHY': 0.5364238410596026,\n",
       " 'JNJ': 0.4900662251655629,\n",
       " 'JNPR': 0.5099337748344371,\n",
       " 'JPM': 0.5231788079470199,\n",
       " 'K': 0.5011037527593819,\n",
       " 'KDP': 0.5165562913907285,\n",
       " 'KEY': 0.5033112582781457,\n",
       " 'KEYS': 0.4856512141280353,\n",
       " 'KHC': 0.47019867549668876,\n",
       " 'KIM': 0.5231788079470199,\n",
       " 'KLAC': 0.4988962472406181,\n",
       " 'KMB': 0.5275938189845475,\n",
       " 'KMI': 0.5298013245033113,\n",
       " 'KMX': 0.4966887417218543,\n",
       " 'KO': 0.5165562913907285,\n",
       " 'KR': 0.5165562913907285,\n",
       " 'KVUE': 0.5555555555555556,\n",
       " 'L': 0.5408388520971302,\n",
       " 'LDOS': 0.5077262693156733,\n",
       " 'LEN': 0.5386313465783664,\n",
       " 'LH': 0.5165562913907285,\n",
       " 'LHX': 0.4856512141280353,\n",
       " 'LIN': 0.5209713024282561,\n",
       " 'LKQ': 0.5187637969094923,\n",
       " 'LLY': 0.5496688741721855,\n",
       " 'LMT': 0.49448123620309054,\n",
       " 'LNT': 0.48123620309050774,\n",
       " 'LOW': 0.5143487858719646,\n",
       " 'LRCX': 0.4900662251655629,\n",
       " 'LULU': 0.5364238410596026,\n",
       " 'LUV': 0.5055187637969095,\n",
       " 'LVS': 0.5077262693156733,\n",
       " 'LW': 0.5165562913907285,\n",
       " 'LYB': 0.47902869757174393,\n",
       " 'LYV': 0.5055187637969095,\n",
       " 'MA': 0.5253863134657837,\n",
       " 'MAA': 0.47019867549668876,\n",
       " 'MAR': 0.5364238410596026,\n",
       " 'MAS': 0.5209713024282561,\n",
       " 'MCD': 0.5298013245033113,\n",
       " 'MCHP': 0.4988962472406181,\n",
       " 'MCK': 0.5342163355408388,\n",
       " 'MCO': 0.5165562913907285,\n",
       " 'MDLZ': 0.5408388520971302,\n",
       " 'MDT': 0.4988962472406181,\n",
       " 'MET': 0.5033112582781457,\n",
       " 'META': 0.5275938189845475,\n",
       " 'MGM': 0.5143487858719646,\n",
       " 'MHK': 0.47902869757174393,\n",
       " 'MKC': 0.5011037527593819,\n",
       " 'MKTX': 0.47902869757174393,\n",
       " 'MLM': 0.5364238410596026,\n",
       " 'MMC': 0.5452538631346578,\n",
       " 'MMM': 0.5342163355408388,\n",
       " 'MNST': 0.5386313465783664,\n",
       " 'MO': 0.5055187637969095,\n",
       " 'MOH': 0.5408388520971302,\n",
       " 'MOS': 0.45695364238410596,\n",
       " 'MPC': 0.543046357615894,\n",
       " 'MPWR': 0.5121412803532008,\n",
       " 'MRK': 0.5408388520971302,\n",
       " 'MRNA': 0.46799116997792495,\n",
       " 'MRO': 0.5165562913907285,\n",
       " 'MS': 0.4878587196467991,\n",
       " 'MSCI': 0.4922737306843267,\n",
       " 'MSFT': 0.5121412803532008,\n",
       " 'MSI': 0.5143487858719646,\n",
       " 'MTB': 0.4746136865342163,\n",
       " 'MTCH': 0.45474613686534215,\n",
       " 'MTD': 0.5209713024282561,\n",
       " 'MU': 0.4856512141280353,\n",
       " 'NCLH': 0.5055187637969095,\n",
       " 'NDAQ': 0.5165562913907285,\n",
       " 'NDSN': 0.5011037527593819,\n",
       " 'NEE': 0.4856512141280353,\n",
       " 'NEM': 0.4503311258278146,\n",
       " 'NFLX': 0.5121412803532008,\n",
       " 'NI': 0.5033112582781457,\n",
       " 'NKE': 0.49448123620309054,\n",
       " 'NOC': 0.5143487858719646,\n",
       " 'NOW': 0.5562913907284768,\n",
       " 'NRG': 0.5518763796909493,\n",
       " 'NSC': 0.5364238410596026,\n",
       " 'NTAP': 0.4988962472406181,\n",
       " 'NTRS': 0.4900662251655629,\n",
       " 'NUE': 0.5209713024282561,\n",
       " 'NVDA': 0.5452538631346578,\n",
       " 'NVR': 0.5342163355408388,\n",
       " 'NWS': 0.5342163355408388,\n",
       " 'NWSA': 0.5099337748344371,\n",
       " 'NXPI': 0.5187637969094923,\n",
       " 'O': 0.4900662251655629,\n",
       " 'ODFL': 0.5187637969094923,\n",
       " 'OKE': 0.5121412803532008,\n",
       " 'OMC': 0.5055187637969095,\n",
       " 'ON': 0.5055187637969095,\n",
       " 'ORCL': 0.5408388520971302,\n",
       " 'ORLY': 0.5783664459161147,\n",
       " 'OTIS': 0.5253863134657837,\n",
       " 'OXY': 0.4878587196467991,\n",
       " 'PANW': 0.5209713024282561,\n",
       " 'PARA': 0.5364238410596026,\n",
       " 'PAYC': 0.5320088300220751,\n",
       " 'PAYX': 0.5209713024282561,\n",
       " 'PCAR': 0.5584988962472406,\n",
       " 'PCG': 0.5143487858719646,\n",
       " 'PEAK': 0.5364238410596026,\n",
       " 'PEG': 0.5187637969094923,\n",
       " 'PEP': 0.5165562913907285,\n",
       " 'PFE': 0.47019867549668876,\n",
       " 'PFG': 0.5055187637969095,\n",
       " 'PG': 0.5231788079470199,\n",
       " 'PGR': 0.5320088300220751,\n",
       " 'PH': 0.5298013245033113,\n",
       " 'PHM': 0.5518763796909493,\n",
       " 'PKG': 0.4966887417218543,\n",
       " 'PLD': 0.5143487858719646,\n",
       " 'PM': 0.5143487858719646,\n",
       " 'PNC': 0.5121412803532008,\n",
       " 'PNR': 0.5342163355408388,\n",
       " 'PNW': 0.48344370860927155,\n",
       " 'PODD': 0.48123620309050774,\n",
       " 'POOL': 0.5055187637969095,\n",
       " 'PPG': 0.5055187637969095,\n",
       " 'PPL': 0.5011037527593819,\n",
       " 'PRU': 0.5011037527593819,\n",
       " 'PSA': 0.47019867549668876,\n",
       " 'PSX': 0.5275938189845475,\n",
       " 'PTC': 0.5187637969094923,\n",
       " 'PWR': 0.5275938189845475,\n",
       " 'PXD': 0.5011037527593819,\n",
       " 'PYPL': 0.49448123620309054,\n",
       " 'QCOM': 0.5253863134657837,\n",
       " 'QRVO': 0.5011037527593819,\n",
       " 'RCL': 0.5275938189845475,\n",
       " 'REG': 0.4746136865342163,\n",
       " 'REGN': 0.5055187637969095,\n",
       " 'RF': 0.5121412803532008,\n",
       " 'RHI': 0.5033112582781457,\n",
       " 'RJF': 0.5121412803532008,\n",
       " 'RL': 0.5121412803532008,\n",
       " 'RMD': 0.5187637969094923,\n",
       " 'ROK': 0.5275938189845475,\n",
       " 'ROL': 0.5099337748344371,\n",
       " 'ROP': 0.5143487858719646,\n",
       " 'ROST': 0.5187637969094923,\n",
       " 'RSG': 0.5320088300220751,\n",
       " 'RTX': 0.4966887417218543,\n",
       " 'RVTY': 0.4900662251655629,\n",
       " 'SBAC': 0.5143487858719646,\n",
       " 'SBUX': 0.5099337748344371,\n",
       " 'SCHW': 0.4988962472406181,\n",
       " 'SHW': 0.4988962472406181,\n",
       " 'SJM': 0.47019867549668876,\n",
       " 'SLB': 0.5055187637969095,\n",
       " 'SNA': 0.5231788079470199,\n",
       " 'SNPS': 0.5275938189845475,\n",
       " 'SO': 0.4900662251655629,\n",
       " 'SPG': 0.5121412803532008,\n",
       " 'SPGI': 0.5275938189845475,\n",
       " 'SRE': 0.5099337748344371,\n",
       " 'STE': 0.5253863134657837,\n",
       " 'STLD': 0.5342163355408388,\n",
       " 'STT': 0.49448123620309054,\n",
       " 'STX': 0.49448123620309054,\n",
       " 'STZ': 0.5165562913907285,\n",
       " 'SWK': 0.4768211920529801,\n",
       " 'SWKS': 0.4856512141280353,\n",
       " 'SYF': 0.5077262693156733,\n",
       " 'SYK': 0.5253863134657837,\n",
       " 'SYY': 0.4922737306843267,\n",
       " 'T': 0.5165562913907285,\n",
       " 'TAP': 0.5099337748344371,\n",
       " 'TDG': 0.5938189845474614,\n",
       " 'TDY': 0.5386313465783664,\n",
       " 'TECH': 0.46799116997792495,\n",
       " 'TEL': 0.5165562913907285,\n",
       " 'TER': 0.4878587196467991,\n",
       " 'TFC': 0.47902869757174393,\n",
       " 'TFX': 0.4900662251655629,\n",
       " 'TGT': 0.4856512141280353,\n",
       " 'TJX': 0.5187637969094923,\n",
       " 'TMO': 0.5055187637969095,\n",
       " 'TMUS': 0.5452538631346578,\n",
       " 'TPR': 0.4878587196467991,\n",
       " 'TRGP': 0.5320088300220751,\n",
       " 'TRMB': 0.4878587196467991,\n",
       " 'TROW': 0.48344370860927155,\n",
       " 'TRV': 0.5231788079470199,\n",
       " 'TSCO': 0.5121412803532008,\n",
       " 'TSLA': 0.5121412803532008,\n",
       " 'TSN': 0.4746136865342163,\n",
       " 'TT': 0.5518763796909493,\n",
       " 'TTWO': 0.5143487858719646,\n",
       " 'TXN': 0.4878587196467991,\n",
       " 'TXT': 0.5165562913907285,\n",
       " 'TYL': 0.5055187637969095,\n",
       " 'UAL': 0.5033112582781457,\n",
       " 'UBER': 0.5231788079470199,\n",
       " 'UDR': 0.4768211920529801,\n",
       " 'UHS': 0.5165562913907285,\n",
       " 'ULTA': 0.5342163355408388,\n",
       " 'UNH': 0.5209713024282561,\n",
       " 'UNP': 0.5077262693156733,\n",
       " 'UPS': 0.4856512141280353,\n",
       " 'URI': 0.5298013245033113,\n",
       " 'USB': 0.5033112582781457,\n",
       " 'V': 0.5364238410596026,\n",
       " 'VFC': 0.5209713024282561,\n",
       " 'VICI': 0.5143487858719646,\n",
       " 'VLO': 0.5099337748344371,\n",
       " 'VLTO': nan,\n",
       " 'VMC': 0.5342163355408388,\n",
       " 'VRSK': 0.5342163355408388,\n",
       " 'VRSN': 0.5143487858719646,\n",
       " 'VRTX': 0.565121412803532,\n",
       " 'VTR': 0.5187637969094923,\n",
       " 'VTRS': 0.49448123620309054,\n",
       " 'VZ': 0.4922737306843267,\n",
       " 'WAB': 0.5099337748344371,\n",
       " 'WAT': 0.4966887417218543,\n",
       " 'WBA': 0.5452538631346578,\n",
       " 'WBD': 0.5077262693156733,\n",
       " 'WDC': 0.5165562913907285,\n",
       " 'WEC': 0.4856512141280353,\n",
       " 'WELL': 0.49448123620309054,\n",
       " 'WFC': 0.4900662251655629,\n",
       " 'WHR': 0.47019867549668876,\n",
       " 'WM': 0.5165562913907285,\n",
       " 'WMB': 0.5452538631346578,\n",
       " 'WMT': 0.5518763796909493,\n",
       " 'WRB': 0.5298013245033113,\n",
       " 'WRK': 0.4988962472406181,\n",
       " 'WST': 0.48123620309050774,\n",
       " 'WTW': 0.5011037527593819,\n",
       " 'WY': 0.4878587196467991,\n",
       " 'WYNN': 0.5209713024282561,\n",
       " 'XEL': 0.4922737306843267,\n",
       " 'XOM': 0.5143487858719646,\n",
       " 'XRAY': 0.5099337748344371,\n",
       " 'XYL': 0.5253863134657837,\n",
       " 'YUM': 0.543046357615894,\n",
       " 'ZBH': 0.4878587196467991,\n",
       " 'ZBRA': 0.5077262693156733,\n",
       " 'ZION': 0.5033112582781457,\n",
       " 'ZTS': 0.4922737306843267}"
      ]
     },
     "execution_count": 11,
     "metadata": {},
     "output_type": "execute_result"
    }
   ],
   "source": [
    "accuracy_metrics"
   ]
  },
  {
   "cell_type": "code",
   "execution_count": 12,
   "metadata": {},
   "outputs": [
    {
     "data": {
      "text/plain": [
       "0.5105040440900687"
      ]
     },
     "execution_count": 12,
     "metadata": {},
     "output_type": "execute_result"
    }
   ],
   "source": [
    "directional_accuracy_pct_change(df_merged['pct_change_gt'], df_merged['pct_change_pred'])\n"
   ]
  }
 ],
 "metadata": {
  "kernelspec": {
   "display_name": "base",
   "language": "python",
   "name": "python3"
  },
  "language_info": {
   "codemirror_mode": {
    "name": "ipython",
    "version": 3
   },
   "file_extension": ".py",
   "mimetype": "text/x-python",
   "name": "python",
   "nbconvert_exporter": "python",
   "pygments_lexer": "ipython3",
   "version": "3.11.8"
  }
 },
 "nbformat": 4,
 "nbformat_minor": 2
}
