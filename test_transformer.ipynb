{
 "cells": [
  {
   "cell_type": "code",
   "execution_count": 1,
   "metadata": {},
   "outputs": [
    {
     "name": "stdout",
     "output_type": "stream",
     "text": [
      "Using MPS\n"
     ]
    }
   ],
   "source": [
    "import torch\n",
    "import torch.nn as nn\n",
    "import pandas as pd\n",
    "import os\n",
    "import numpy as np\n",
    "import matplotlib.pyplot as plt\n",
    "from torch.utils.data import DataLoader, TensorDataset\n",
    "from torch.optim.lr_scheduler import ReduceLROnPlateau\n",
    "from torchinfo import summary\n",
    "from datetime import datetime\n",
    "from helpers import *\n",
    "\n",
    "if torch.cuda.is_available():\n",
    "    print(\"Using GPU\")\n",
    "    device = torch.device(\"cuda\")\n",
    "elif torch.backends.mps.is_available():\n",
    "    print(\"Using MPS\")\n",
    "    device = torch.device(\"mps\")\n",
    "else:\n",
    "    print(\"Using CPU\")\n",
    "    device = torch.device(\"cpu\")\n"
   ]
  },
  {
   "cell_type": "markdown",
   "metadata": {},
   "source": [
    "# Hyperparameters"
   ]
  },
  {
   "cell_type": "code",
   "execution_count": 2,
   "metadata": {},
   "outputs": [],
   "source": [
    "seq_size = 30 # number of previous days used to predict next day\n",
    "test_start_date = pd.to_datetime(\"2022-03-01\")\n",
    "out_cols = ['open', 'close', 'high', 'low', 'pct_change']\n",
    "epochs = 500"
   ]
  },
  {
   "cell_type": "code",
   "execution_count": 3,
   "metadata": {},
   "outputs": [],
   "source": [
    "# loading data\n",
    "data_path = 'data'\n",
    "interval = '1d'\n",
    "# companies = os.listdir(data_path)\n",
    "companies = ['AAPL']\n",
    "for c in companies:\n",
    "    if c == 'constituents.csv':\n",
    "        companies.remove(c)\n",
    "    elif c == '.DS_Store':\n",
    "        companies.remove('.DS_Store')\n",
    "\n",
    "# make unique number for each company ticker\n",
    "ids = np.linspace(0, 1, len(companies)).round(5)\n",
    "company_stats = dict() # keys are ticker, values are that company's stat dict\n",
    "num_to_ticker = dict()\n",
    "ticker_to_num = dict()\n",
    "for i, num in enumerate(ids):\n",
    "    num_to_ticker[num] = companies[i]\n",
    "    ticker_to_num[companies[i]] = num\n",
    "\n",
    "df_list = []\n",
    "stats_list = []\n",
    "x_train = []\n",
    "x_test = []\n",
    "y_train = []\n",
    "y_test = []\n",
    "dates = []\n",
    "\n",
    "for co in companies:\n",
    "    files = os.listdir(os.path.join(data_path, co))\n",
    "    for f in files: # check each company folder for specific interval of data\n",
    "        if interval in f:\n",
    "            file = f\n",
    "\n",
    "    df = pd.read_csv(os.path.join(data_path, co, file))\n",
    "    df['date'] = pd.to_datetime(df['date'])\n",
    "    df = df.drop(columns=['Unnamed: 0'])\n",
    "\n",
    "    # normalize columns, excluding date column\n",
    "    df_normed, stat_dict = z_norm(df, 'date')\n",
    "    # add ticker column\n",
    "    df_normed['ticker'] = ticker_to_num[co]\n",
    "\n",
    "    cols = list(df_normed.columns)\n",
    "    cols.append(cols.pop(cols.index('date'))) # move date to end of list since this will be the order of columns for output df\n",
    "\n",
    "    # split each df into train and test timeframes\n",
    "    df_train = df_normed[df_normed['date'] < test_start_date]\n",
    "    df_test = df_normed[df_normed['date'] >= test_start_date]\n",
    "\n",
    "    pred_dates = df_test['date'].iloc[seq_size:].tolist()\n",
    "    dates.append(pred_dates)\n",
    "\n",
    "    # make copy of test df for use in testing\n",
    "    # df_cpy = df_test.copy()\n",
    "\n",
    "    # drop unnecessary columns\n",
    "    df_train = df_train.drop(columns=['date'])\n",
    "    df_test = df_test.drop(columns=['date'])\n",
    "\n",
    "    # store column indices for extracting output features we want\n",
    "    feature_cols_idx = [list(df_train.columns).index(feature) for feature in out_cols]\n",
    "\n",
    "    # convert to 2D numpy arrays of shape (-1, num_cols)\n",
    "    train = df_train.to_numpy()\n",
    "    test = df_test.to_numpy()\n",
    "\n",
    "    # convert to sequences and append to respective training and testing lists\n",
    "    x, y = to_sequences(seq_size, train)\n",
    "    for i in range(len(x)):\n",
    "        x_train.append(x[i])\n",
    "        y_train.append(y[i])\n",
    "    x, y = to_sequences(seq_size, test)\n",
    "    for i in range(len(x)):\n",
    "        x_test.append(x[i])\n",
    "        y_test.append(y[i])\n",
    "\n",
    "    company_stats[co] = stat_dict\n",
    "    stats_list.append(stat_dict)\n",
    "\n",
    "indims = y_train[0].shape[0]\n",
    "outdims = 5 # open, close, high, low, pct_change\n",
    "batch_size = 32\n",
    "dates = [element for nestedlist in dates for element in nestedlist]\n",
    "\n",
    "x_train = np.vstack(x_train).reshape(-1, seq_size, indims)\n",
    "y_train = np.vstack(y_train).reshape(-1, indims)\n",
    "x_test = np.vstack(x_test).reshape(-1, seq_size, indims)\n",
    "y_test = np.vstack(y_test).reshape(-1, indims)\n",
    "\n",
    "x_train = torch.tensor(x_train, dtype=torch.float32)\n",
    "y_train = torch.tensor(y_train, dtype=torch.float32)\n",
    "x_test = torch.tensor(x_test, dtype=torch.float32)\n",
    "y_test = torch.tensor(y_test, dtype=torch.float32)\n",
    "\n",
    "train_dataset = TensorDataset(x_train, y_train)\n",
    "train_loader = DataLoader(train_dataset, batch_size=batch_size, shuffle=True)\n",
    "\n",
    "test_dataset = TensorDataset(x_test, y_test)\n",
    "test_loader = DataLoader(test_dataset, batch_size=batch_size, shuffle=False)"
   ]
  },
  {
   "cell_type": "markdown",
   "metadata": {},
   "source": [
    "Using basic transformer from https://github.com/jeffheaton/app_deep_learning/blob/main/t81_558_class_10_3_transformer_timeseries.ipynb"
   ]
  },
  {
   "cell_type": "code",
   "execution_count": 4,
   "metadata": {},
   "outputs": [],
   "source": [
    "# Positional Encoding for Transformer\n",
    "class PositionalEncoding(nn.Module):\n",
    "    def __init__(self, d_model, dropout=0.1, max_len=5000):\n",
    "        super(PositionalEncoding, self).__init__()\n",
    "        self.dropout = nn.Dropout(p=dropout)\n",
    "\n",
    "        pe = torch.zeros(max_len, d_model)\n",
    "        position = torch.arange(0, max_len, dtype=torch.float).unsqueeze(1)\n",
    "        div_term = torch.exp(torch.arange(0, d_model, 2).float() * (-np.log(10000.0) / d_model))\n",
    "        pe[:, 0::2] = torch.sin(position * div_term)\n",
    "        pe[:, 1::2] = torch.cos(position * div_term)\n",
    "        pe = pe.unsqueeze(0).transpose(0, 1)\n",
    "        self.register_buffer('pe', pe)\n",
    "\n",
    "    def forward(self, x):\n",
    "        x = x + self.pe[:x.size(0), :]\n",
    "        return self.dropout(x)\n",
    "    \n",
    "# Model definition using Transformer\n",
    "class TransformerModel(nn.Module):\n",
    "    def __init__(self, input_dim=1, output_dim=1, d_model=64, nhead=4, num_layers=2, dropout=0.1):\n",
    "        super(TransformerModel, self).__init__()\n",
    "\n",
    "        self.encoder = nn.Linear(input_dim, d_model)\n",
    "        self.pos_encoder = PositionalEncoding(d_model, dropout)\n",
    "        encoder_layers = nn.TransformerEncoderLayer(d_model, nhead, batch_first=True)\n",
    "        self.transformer_encoder = nn.TransformerEncoder(encoder_layers, num_layers)\n",
    "        self.decoder = nn.Linear(d_model, output_dim)\n",
    "        self.init_weights()\n",
    "\n",
    "    def init_weights(self):\n",
    "        initrange = 0.1    \n",
    "        self.decoder.bias.data.zero_()\n",
    "        self.decoder.weight.data.uniform_(-initrange, initrange)\n",
    "\n",
    "    def forward(self, x):\n",
    "        x = self.encoder(x)\n",
    "        x = self.pos_encoder(x)\n",
    "        x = self.transformer_encoder(x)\n",
    "        x = self.decoder(x[:, -1, :])\n",
    "        return x\n",
    "\n",
    "model = TransformerModel(input_dim=indims, output_dim=outdims).to(device)"
   ]
  },
  {
   "cell_type": "code",
   "execution_count": 5,
   "metadata": {},
   "outputs": [
    {
     "name": "stdout",
     "output_type": "stream",
     "text": [
      "Epoch 1/500, Train Loss: 0.2938, Validation Loss: 0.3562\n"
     ]
    },
    {
     "ename": "KeyboardInterrupt",
     "evalue": "",
     "output_type": "error",
     "traceback": [
      "\u001b[0;31m---------------------------------------------------------------------------\u001b[0m",
      "\u001b[0;31mKeyboardInterrupt\u001b[0m                         Traceback (most recent call last)",
      "Cell \u001b[0;32mIn [5], line 21\u001b[0m\n\u001b[1;32m     19\u001b[0m     loss \u001b[38;5;241m=\u001b[39m criterion(outputs, y_batch)\n\u001b[1;32m     20\u001b[0m     loss\u001b[38;5;241m.\u001b[39mbackward()\n\u001b[0;32m---> 21\u001b[0m     train_losses\u001b[38;5;241m.\u001b[39mappend(loss\u001b[38;5;241m.\u001b[39mitem())\n\u001b[1;32m     22\u001b[0m     optimizer\u001b[38;5;241m.\u001b[39mstep()\n\u001b[1;32m     24\u001b[0m \u001b[38;5;66;03m# Validation\u001b[39;00m\n",
      "\u001b[0;31mKeyboardInterrupt\u001b[0m: "
     ]
    }
   ],
   "source": [
    "# Train the model\n",
    "criterion = nn.MSELoss()\n",
    "optimizer = torch.optim.Adam(model.parameters(), lr=0.001)\n",
    "scheduler = ReduceLROnPlateau(optimizer, 'min', factor=0.5, patience=10, verbose=True)\n",
    "\n",
    "early_stop_count = 0\n",
    "min_val_loss = float('inf')\n",
    "\n",
    "for epoch in range(epochs):\n",
    "    model.train()\n",
    "    train_losses = []\n",
    "    for batch in train_loader:\n",
    "        x_batch, y_batch = batch\n",
    "        y_batch = y_batch[:, feature_cols_idx]\n",
    "        x_batch, y_batch = x_batch.to(device), y_batch.to(device)\n",
    "\n",
    "        optimizer.zero_grad()\n",
    "        outputs = model(x_batch)\n",
    "        loss = criterion(outputs, y_batch)\n",
    "        loss.backward()\n",
    "        train_losses.append(loss.item())\n",
    "        optimizer.step()\n",
    "\n",
    "    # Validation\n",
    "    model.eval()\n",
    "    val_losses = []\n",
    "    with torch.no_grad():\n",
    "        for batch in test_loader:\n",
    "            x_batch, y_batch = batch\n",
    "            y_batch = y_batch[:, feature_cols_idx]\n",
    "            x_batch, y_batch = x_batch.to(device), y_batch.to(device)\n",
    "            outputs = model(x_batch)\n",
    "            loss = criterion(outputs, y_batch)\n",
    "            val_losses.append(loss.item())\n",
    "\n",
    "    val_loss = np.mean(val_losses)\n",
    "    train_loss = np.mean(train_losses)\n",
    "    scheduler.step(val_loss)\n",
    "\n",
    "    # uncomment for early stopping\n",
    "    # if val_loss < min_val_loss:\n",
    "    #     min_val_loss = val_loss\n",
    "    #     early_stop_count = 0\n",
    "    # else:\n",
    "    #     early_stop_count += 1\n",
    "\n",
    "    # if early_stop_count >= 5:\n",
    "    #     print(\"Early stopping!\")\n",
    "    #     break\n",
    "    print(f\"Epoch {epoch + 1}/{epochs}, Train Loss: {train_loss:.4f}, Validation Loss: {val_loss:.4f}\")"
   ]
  },
  {
   "cell_type": "code",
   "execution_count": 7,
   "metadata": {},
   "outputs": [],
   "source": [
    "saved_weights_path = 'saved_models'\n",
    "fn = f'AAPL_model_{datetime.now().strftime(\"%Y%m%d\")}.pt'"
   ]
  },
  {
   "cell_type": "code",
   "execution_count": 8,
   "metadata": {},
   "outputs": [],
   "source": [
    "torch.save(model.state_dict(), os.path.join(saved_weights_path, fn))"
   ]
  },
  {
   "cell_type": "markdown",
   "metadata": {},
   "source": [
    "# Testing"
   ]
  },
  {
   "cell_type": "code",
   "execution_count": 6,
   "metadata": {},
   "outputs": [],
   "source": [
    "# testing with metrics\n",
    "# model = TransformerModel(input_dim=indims, output_dim=outdims).to(device)\n",
    "# model.load_state_dict(torch.load(os.path.join(saved_weights_path, \"AAPL_model_20240209.pt\")))\n",
    "results = []\n",
    "gt_preds = []\n",
    "with torch.no_grad():\n",
    "    for i, batch in enumerate(test_loader):\n",
    "        x_batch, y_batch = batch\n",
    "        tickers = [num_to_ticker[y_batch.detach().numpy()[idx,-1]] for idx in range(y_batch.shape[0])]\n",
    "        y_batch = y_batch[:, feature_cols_idx]\n",
    "        x_batch, y_batch = x_batch.to(device), y_batch.to(device)\n",
    "        outputs = model(x_batch)\n",
    "\n",
    "        gt_outputs = process_results(y_batch, batch_size, i, dates, tickers)\n",
    "        processed_outputs = process_results(outputs, batch_size, i, dates, tickers)\n",
    "\n",
    "        [results.append(out) for out in processed_outputs]\n",
    "        [gt_preds.append(out) for out in gt_outputs]\n",
    "\n",
    "columns = [ele for nested in [out_cols, ['ticker', 'date']] for ele in nested]\n",
    "df_pred = pd.DataFrame(results, columns=columns)\n",
    "df_gt = pd.DataFrame(gt_preds, columns=columns)\n",
    "for co in companies:\n",
    "    df_pred[df_pred['ticker'] == co] = reverse_z_norm(df_pred, company_stats[co], col_exclude=['ticker', 'date'])\n",
    "    df_gt[df_pred['ticker'] == co] = reverse_z_norm(df_gt, company_stats[co], col_exclude=['ticker', 'date'])"
   ]
  },
  {
   "cell_type": "code",
   "execution_count": 7,
   "metadata": {},
   "outputs": [
    {
     "data": {
      "text/html": [
       "<div>\n",
       "<style scoped>\n",
       "    .dataframe tbody tr th:only-of-type {\n",
       "        vertical-align: middle;\n",
       "    }\n",
       "\n",
       "    .dataframe tbody tr th {\n",
       "        vertical-align: top;\n",
       "    }\n",
       "\n",
       "    .dataframe thead th {\n",
       "        text-align: right;\n",
       "    }\n",
       "</style>\n",
       "<table border=\"1\" class=\"dataframe\">\n",
       "  <thead>\n",
       "    <tr style=\"text-align: right;\">\n",
       "      <th></th>\n",
       "      <th>open</th>\n",
       "      <th>close</th>\n",
       "      <th>high</th>\n",
       "      <th>low</th>\n",
       "      <th>pct_change</th>\n",
       "      <th>ticker</th>\n",
       "      <th>date</th>\n",
       "    </tr>\n",
       "  </thead>\n",
       "  <tbody>\n",
       "    <tr>\n",
       "      <th>0</th>\n",
       "      <td>153.775142</td>\n",
       "      <td>149.539862</td>\n",
       "      <td>150.114000</td>\n",
       "      <td>154.689061</td>\n",
       "      <td>-0.001818</td>\n",
       "      <td>AAPL</td>\n",
       "      <td>2022-04-12</td>\n",
       "    </tr>\n",
       "    <tr>\n",
       "      <th>1</th>\n",
       "      <td>153.914558</td>\n",
       "      <td>147.995298</td>\n",
       "      <td>153.097797</td>\n",
       "      <td>146.642164</td>\n",
       "      <td>0.001304</td>\n",
       "      <td>AAPL</td>\n",
       "      <td>2022-04-13</td>\n",
       "    </tr>\n",
       "    <tr>\n",
       "      <th>2</th>\n",
       "      <td>151.465824</td>\n",
       "      <td>156.482587</td>\n",
       "      <td>155.626065</td>\n",
       "      <td>157.442929</td>\n",
       "      <td>0.000304</td>\n",
       "      <td>AAPL</td>\n",
       "      <td>2022-04-14</td>\n",
       "    </tr>\n",
       "    <tr>\n",
       "      <th>3</th>\n",
       "      <td>133.543676</td>\n",
       "      <td>147.787449</td>\n",
       "      <td>150.065785</td>\n",
       "      <td>144.393616</td>\n",
       "      <td>0.001929</td>\n",
       "      <td>AAPL</td>\n",
       "      <td>2022-04-18</td>\n",
       "    </tr>\n",
       "    <tr>\n",
       "      <th>4</th>\n",
       "      <td>138.575089</td>\n",
       "      <td>142.715087</td>\n",
       "      <td>142.711835</td>\n",
       "      <td>151.942139</td>\n",
       "      <td>0.002542</td>\n",
       "      <td>AAPL</td>\n",
       "      <td>2022-04-19</td>\n",
       "    </tr>\n",
       "  </tbody>\n",
       "</table>\n",
       "</div>"
      ],
      "text/plain": [
       "         open       close        high         low  pct_change ticker   \n",
       "0  153.775142  149.539862  150.114000  154.689061   -0.001818   AAPL  \\\n",
       "1  153.914558  147.995298  153.097797  146.642164    0.001304   AAPL   \n",
       "2  151.465824  156.482587  155.626065  157.442929    0.000304   AAPL   \n",
       "3  133.543676  147.787449  150.065785  144.393616    0.001929   AAPL   \n",
       "4  138.575089  142.715087  142.711835  151.942139    0.002542   AAPL   \n",
       "\n",
       "        date  \n",
       "0 2022-04-12  \n",
       "1 2022-04-13  \n",
       "2 2022-04-14  \n",
       "3 2022-04-18  \n",
       "4 2022-04-19  "
      ]
     },
     "execution_count": 7,
     "metadata": {},
     "output_type": "execute_result"
    }
   ],
   "source": [
    "df_pred.head()"
   ]
  },
  {
   "cell_type": "code",
   "execution_count": 8,
   "metadata": {},
   "outputs": [
    {
     "data": {
      "text/html": [
       "<div>\n",
       "<style scoped>\n",
       "    .dataframe tbody tr th:only-of-type {\n",
       "        vertical-align: middle;\n",
       "    }\n",
       "\n",
       "    .dataframe tbody tr th {\n",
       "        vertical-align: top;\n",
       "    }\n",
       "\n",
       "    .dataframe thead th {\n",
       "        text-align: right;\n",
       "    }\n",
       "</style>\n",
       "<table border=\"1\" class=\"dataframe\">\n",
       "  <thead>\n",
       "    <tr style=\"text-align: right;\">\n",
       "      <th></th>\n",
       "      <th>open</th>\n",
       "      <th>close</th>\n",
       "      <th>high</th>\n",
       "      <th>low</th>\n",
       "      <th>pct_change</th>\n",
       "      <th>ticker</th>\n",
       "      <th>date</th>\n",
       "    </tr>\n",
       "  </thead>\n",
       "  <tbody>\n",
       "    <tr>\n",
       "      <th>0</th>\n",
       "      <td>168.020001</td>\n",
       "      <td>167.659998</td>\n",
       "      <td>169.870002</td>\n",
       "      <td>166.639999</td>\n",
       "      <td>0.011523</td>\n",
       "      <td>AAPL</td>\n",
       "      <td>2022-04-12</td>\n",
       "    </tr>\n",
       "    <tr>\n",
       "      <th>1</th>\n",
       "      <td>167.390000</td>\n",
       "      <td>170.400002</td>\n",
       "      <td>171.040003</td>\n",
       "      <td>166.769999</td>\n",
       "      <td>0.016343</td>\n",
       "      <td>AAPL</td>\n",
       "      <td>2022-04-13</td>\n",
       "    </tr>\n",
       "    <tr>\n",
       "      <th>2</th>\n",
       "      <td>170.619998</td>\n",
       "      <td>165.290002</td>\n",
       "      <td>171.269997</td>\n",
       "      <td>165.040001</td>\n",
       "      <td>-0.029988</td>\n",
       "      <td>AAPL</td>\n",
       "      <td>2022-04-14</td>\n",
       "    </tr>\n",
       "    <tr>\n",
       "      <th>3</th>\n",
       "      <td>163.920000</td>\n",
       "      <td>165.069997</td>\n",
       "      <td>166.599998</td>\n",
       "      <td>163.570002</td>\n",
       "      <td>-0.001331</td>\n",
       "      <td>AAPL</td>\n",
       "      <td>2022-04-18</td>\n",
       "    </tr>\n",
       "    <tr>\n",
       "      <th>4</th>\n",
       "      <td>165.020000</td>\n",
       "      <td>167.400003</td>\n",
       "      <td>167.819997</td>\n",
       "      <td>163.910002</td>\n",
       "      <td>0.014115</td>\n",
       "      <td>AAPL</td>\n",
       "      <td>2022-04-19</td>\n",
       "    </tr>\n",
       "  </tbody>\n",
       "</table>\n",
       "</div>"
      ],
      "text/plain": [
       "         open       close        high         low  pct_change ticker   \n",
       "0  168.020001  167.659998  169.870002  166.639999    0.011523   AAPL  \\\n",
       "1  167.390000  170.400002  171.040003  166.769999    0.016343   AAPL   \n",
       "2  170.619998  165.290002  171.269997  165.040001   -0.029988   AAPL   \n",
       "3  163.920000  165.069997  166.599998  163.570002   -0.001331   AAPL   \n",
       "4  165.020000  167.400003  167.819997  163.910002    0.014115   AAPL   \n",
       "\n",
       "        date  \n",
       "0 2022-04-12  \n",
       "1 2022-04-13  \n",
       "2 2022-04-14  \n",
       "3 2022-04-18  \n",
       "4 2022-04-19  "
      ]
     },
     "execution_count": 8,
     "metadata": {},
     "output_type": "execute_result"
    }
   ],
   "source": [
    "df_gt.head()"
   ]
  },
  {
   "cell_type": "code",
   "execution_count": 9,
   "metadata": {},
   "outputs": [
    {
     "data": {
      "image/png": "[encoded data removed]",
      "text/plain": [
       "<Figure size 640x480 with 1 Axes>"
      ]
     },
     "metadata": {},
     "output_type": "display_data"
    }
   ],
   "source": [
    "df_pred[df_pred['ticker'] == 'AAPL']['close'].plot()\n",
    "df_gt[df_gt['ticker'] == 'AAPL']['close'].plot()\n",
    "plt.legend()\n",
    "plt.show()"
   ]
  },
  {
   "cell_type": "code",
   "execution_count": 10,
   "metadata": {},
   "outputs": [
    {
     "data": {
      "text/plain": [
       "0.5022123893805309"
      ]
     },
     "execution_count": 10,
     "metadata": {},
     "output_type": "execute_result"
    }
   ],
   "source": [
    "directional_accuracy(df_gt['open'], df_pred['open'])"
   ]
  },
  {
   "cell_type": "code",
   "execution_count": 11,
   "metadata": {},
   "outputs": [
    {
     "data": {
      "text/plain": [
       "0.5110619469026548"
      ]
     },
     "execution_count": 11,
     "metadata": {},
     "output_type": "execute_result"
    }
   ],
   "source": [
    "directional_accuracy(df_gt['close'], df_pred['high'])"
   ]
  }
 ],
 "metadata": {
  "kernelspec": {
   "display_name": "base",
   "language": "python",
   "name": "python3"
  },
  "language_info": {
   "codemirror_mode": {
    "name": "ipython",
    "version": 3
   },
   "file_extension": ".py",
   "mimetype": "text/x-python",
   "name": "python",
   "nbconvert_exporter": "python",
   "pygments_lexer": "ipython3",
   "version": "3.9.7"
  }
 },
 "nbformat": 4,
 "nbformat_minor": 2
}
